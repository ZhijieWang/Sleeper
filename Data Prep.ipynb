{
 "cells": [
  {
   "cell_type": "code",
   "execution_count": 1,
   "id": "latest-merchant",
   "metadata": {},
   "outputs": [],
   "source": [
    "from pyedflib import highlevel\n",
    "import os\n",
    "import torch\n",
    "import torch.nn as nn\n",
    "import torch.nn.functional as F\n",
    "import numpy as np"
   ]
  },
  {
   "cell_type": "code",
   "execution_count": 2,
   "id": "cubic-handle",
   "metadata": {},
   "outputs": [],
   "source": [
    "if torch.cuda.is_available():  \n",
    "  dev = \"cuda:0\" \n",
    "else:  \n",
    "  dev = \"cpu\"  \n",
    "device = torch.device(dev)  \n",
    "a = torch.zeros(4,3)    \n",
    "a = a.to(device)"
   ]
  },
  {
   "cell_type": "code",
   "execution_count": 3,
   "id": "conscious-elimination",
   "metadata": {},
   "outputs": [],
   "source": [
    "labels = {}\n",
    "#W, R, 1, 2, 3, 4, M \n",
    "labels['W']=5\n",
    "labels['R']=6\n",
    "labels['M']=0\n",
    "labels['1']=1\n",
    "labels['2']=2\n",
    "labels['3']=3\n",
    "labels['4']=4\n",
    "labels['e']=7"
   ]
  },
  {
   "cell_type": "code",
   "execution_count": 22,
   "id": "boring-motor",
   "metadata": {},
   "outputs": [],
   "source": [
    "\n",
    "# match data\n",
    "def match_files(folder):\n",
    "    files = os.listdir(folder)\n",
    "    print(len(files))\n",
    "    files = files[:200]\n",
    "    output = {}\n",
    "    for f in files:\n",
    "        subject = f.split(\"-\")[0][:6]\n",
    "        f_type = f.split(\"-\")[1]\n",
    "        val = output.get(subject, {})\n",
    "        val[f_type]=folder +f\n",
    "        output[subject]=val\n",
    "    keys = []\n",
    "    for i in output.keys():\n",
    "        if len(output[i])!= 2:\n",
    "            keys.append(i)\n",
    "    for key in keys: del output[key]\n",
    "    return output"
   ]
  },
  {
   "cell_type": "code",
   "execution_count": 23,
   "id": "plastic-tattoo",
   "metadata": {},
   "outputs": [
    {
     "name": "stdout",
     "output_type": "stream",
     "text": [
      "306\n"
     ]
    },
    {
     "data": {
      "text/plain": [
       "{'SC4582': {'Hypnogram.edf': './sleep-cassette/SC4582GP-Hypnogram.edf',\n",
       "  'PSG.edf': './sleep-cassette/SC4582G0-PSG.edf'},\n",
       " 'SC4812': {'PSG.edf': './sleep-cassette/SC4812G0-PSG.edf',\n",
       "  'Hypnogram.edf': './sleep-cassette/SC4812GV-Hypnogram.edf'},\n",
       " 'SC4722': {'Hypnogram.edf': './sleep-cassette/SC4722EM-Hypnogram.edf',\n",
       "  'PSG.edf': './sleep-cassette/SC4722E0-PSG.edf'},\n",
       " 'SC4712': {'Hypnogram.edf': './sleep-cassette/SC4712EA-Hypnogram.edf',\n",
       "  'PSG.edf': './sleep-cassette/SC4712E0-PSG.edf'},\n",
       " 'SC4162': {'PSG.edf': './sleep-cassette/SC4162E0-PSG.edf',\n",
       "  'Hypnogram.edf': './sleep-cassette/SC4162EC-Hypnogram.edf'},\n",
       " 'SC4552': {'PSG.edf': './sleep-cassette/SC4552F0-PSG.edf',\n",
       "  'Hypnogram.edf': './sleep-cassette/SC4552FW-Hypnogram.edf'},\n",
       " 'SC4622': {'Hypnogram.edf': './sleep-cassette/SC4622EJ-Hypnogram.edf',\n",
       "  'PSG.edf': './sleep-cassette/SC4622E0-PSG.edf'},\n",
       " 'SC4341': {'PSG.edf': './sleep-cassette/SC4341F0-PSG.edf',\n",
       "  'Hypnogram.edf': './sleep-cassette/SC4341FA-Hypnogram.edf'},\n",
       " 'SC4551': {'PSG.edf': './sleep-cassette/SC4551F0-PSG.edf',\n",
       "  'Hypnogram.edf': './sleep-cassette/SC4551FC-Hypnogram.edf'},\n",
       " 'SC4312': {'PSG.edf': './sleep-cassette/SC4312E0-PSG.edf',\n",
       "  'Hypnogram.edf': './sleep-cassette/SC4312EM-Hypnogram.edf'},\n",
       " 'SC4711': {'Hypnogram.edf': './sleep-cassette/SC4711EC-Hypnogram.edf',\n",
       "  'PSG.edf': './sleep-cassette/SC4711E0-PSG.edf'},\n",
       " 'SC4512': {'Hypnogram.edf': './sleep-cassette/SC4512EW-Hypnogram.edf',\n",
       "  'PSG.edf': './sleep-cassette/SC4512E0-PSG.edf'},\n",
       " 'SC4141': {'Hypnogram.edf': './sleep-cassette/SC4141EU-Hypnogram.edf',\n",
       "  'PSG.edf': './sleep-cassette/SC4141E0-PSG.edf'},\n",
       " 'SC4752': {'Hypnogram.edf': './sleep-cassette/SC4752EM-Hypnogram.edf',\n",
       "  'PSG.edf': './sleep-cassette/SC4752E0-PSG.edf'},\n",
       " 'SC4251': {'Hypnogram.edf': './sleep-cassette/SC4251EP-Hypnogram.edf',\n",
       "  'PSG.edf': './sleep-cassette/SC4251E0-PSG.edf'},\n",
       " 'SC4131': {'Hypnogram.edf': './sleep-cassette/SC4131EC-Hypnogram.edf',\n",
       "  'PSG.edf': './sleep-cassette/SC4131E0-PSG.edf'},\n",
       " 'SC4072': {'Hypnogram.edf': './sleep-cassette/SC4072EH-Hypnogram.edf',\n",
       "  'PSG.edf': './sleep-cassette/SC4072E0-PSG.edf'},\n",
       " 'SC4281': {'PSG.edf': './sleep-cassette/SC4281G0-PSG.edf',\n",
       "  'Hypnogram.edf': './sleep-cassette/SC4281GC-Hypnogram.edf'},\n",
       " 'SC4491': {'PSG.edf': './sleep-cassette/SC4491G0-PSG.edf',\n",
       "  'Hypnogram.edf': './sleep-cassette/SC4491GJ-Hypnogram.edf'},\n",
       " 'SC4412': {'Hypnogram.edf': './sleep-cassette/SC4412EM-Hypnogram.edf',\n",
       "  'PSG.edf': './sleep-cassette/SC4412E0-PSG.edf'},\n",
       " 'SC4051': {'PSG.edf': './sleep-cassette/SC4051E0-PSG.edf',\n",
       "  'Hypnogram.edf': './sleep-cassette/SC4051EC-Hypnogram.edf'},\n",
       " 'SC4301': {'Hypnogram.edf': './sleep-cassette/SC4301EC-Hypnogram.edf',\n",
       "  'PSG.edf': './sleep-cassette/SC4301E0-PSG.edf'},\n",
       " 'SC4042': {'Hypnogram.edf': './sleep-cassette/SC4042EC-Hypnogram.edf',\n",
       "  'PSG.edf': './sleep-cassette/SC4042E0-PSG.edf'},\n",
       " 'SC4302': {'PSG.edf': './sleep-cassette/SC4302E0-PSG.edf',\n",
       "  'Hypnogram.edf': './sleep-cassette/SC4302EV-Hypnogram.edf'},\n",
       " 'SC4032': {'PSG.edf': './sleep-cassette/SC4032E0-PSG.edf',\n",
       "  'Hypnogram.edf': './sleep-cassette/SC4032EP-Hypnogram.edf'},\n",
       " 'SC4401': {'Hypnogram.edf': './sleep-cassette/SC4401EC-Hypnogram.edf',\n",
       "  'PSG.edf': './sleep-cassette/SC4401E0-PSG.edf'},\n",
       " 'SC4241': {'Hypnogram.edf': './sleep-cassette/SC4241EC-Hypnogram.edf',\n",
       "  'PSG.edf': './sleep-cassette/SC4241E0-PSG.edf'},\n",
       " 'SC4122': {'PSG.edf': './sleep-cassette/SC4122E0-PSG.edf',\n",
       "  'Hypnogram.edf': './sleep-cassette/SC4122EV-Hypnogram.edf'},\n",
       " 'SC4771': {'Hypnogram.edf': './sleep-cassette/SC4771GC-Hypnogram.edf',\n",
       "  'PSG.edf': './sleep-cassette/SC4771G0-PSG.edf'},\n",
       " 'SC4432': {'Hypnogram.edf': './sleep-cassette/SC4432EM-Hypnogram.edf',\n",
       "  'PSG.edf': './sleep-cassette/SC4432E0-PSG.edf'},\n",
       " 'SC4672': {'Hypnogram.edf': './sleep-cassette/SC4672GV-Hypnogram.edf',\n",
       "  'PSG.edf': './sleep-cassette/SC4672G0-PSG.edf'},\n",
       " 'SC4501': {'PSG.edf': './sleep-cassette/SC4501E0-PSG.edf',\n",
       "  'Hypnogram.edf': './sleep-cassette/SC4501EW-Hypnogram.edf'},\n",
       " 'SC4061': {'Hypnogram.edf': './sleep-cassette/SC4061EC-Hypnogram.edf',\n",
       "  'PSG.edf': './sleep-cassette/SC4061E0-PSG.edf'},\n",
       " 'SC4472': {'Hypnogram.edf': './sleep-cassette/SC4472FA-Hypnogram.edf',\n",
       "  'PSG.edf': './sleep-cassette/SC4472F0-PSG.edf'},\n",
       " 'SC4232': {'PSG.edf': './sleep-cassette/SC4232E0-PSG.edf',\n",
       "  'Hypnogram.edf': './sleep-cassette/SC4232EV-Hypnogram.edf'},\n",
       " 'SC4181': {'Hypnogram.edf': './sleep-cassette/SC4181EC-Hypnogram.edf',\n",
       "  'PSG.edf': './sleep-cassette/SC4181E0-PSG.edf'},\n",
       " 'SC4601': {'PSG.edf': './sleep-cassette/SC4601E0-PSG.edf',\n",
       "  'Hypnogram.edf': './sleep-cassette/SC4601EC-Hypnogram.edf'},\n",
       " 'SC4762': {'Hypnogram.edf': './sleep-cassette/SC4762EG-Hypnogram.edf',\n",
       "  'PSG.edf': './sleep-cassette/SC4762E0-PSG.edf'},\n",
       " 'SC4211': {'Hypnogram.edf': './sleep-cassette/SC4211EC-Hypnogram.edf',\n",
       "  'PSG.edf': './sleep-cassette/SC4211E0-PSG.edf'},\n",
       " 'SC4481': {'Hypnogram.edf': './sleep-cassette/SC4481FV-Hypnogram.edf',\n",
       "  'PSG.edf': './sleep-cassette/SC4481F0-PSG.edf'},\n",
       " 'SC4321': {'PSG.edf': './sleep-cassette/SC4321E0-PSG.edf',\n",
       "  'Hypnogram.edf': './sleep-cassette/SC4321EC-Hypnogram.edf'},\n",
       " 'SC4121': {'PSG.edf': './sleep-cassette/SC4121E0-PSG.edf',\n",
       "  'Hypnogram.edf': './sleep-cassette/SC4121EC-Hypnogram.edf'},\n",
       " 'SC4422': {'Hypnogram.edf': './sleep-cassette/SC4422EA-Hypnogram.edf',\n",
       "  'PSG.edf': './sleep-cassette/SC4422E0-PSG.edf'},\n",
       " 'SC4532': {'PSG.edf': './sleep-cassette/SC4532E0-PSG.edf',\n",
       "  'Hypnogram.edf': './sleep-cassette/SC4532EV-Hypnogram.edf'},\n",
       " 'SC4142': {'Hypnogram.edf': './sleep-cassette/SC4142EU-Hypnogram.edf',\n",
       "  'PSG.edf': './sleep-cassette/SC4142E0-PSG.edf'},\n",
       " 'SC4112': {'Hypnogram.edf': './sleep-cassette/SC4112EC-Hypnogram.edf',\n",
       "  'PSG.edf': './sleep-cassette/SC4112E0-PSG.edf'},\n",
       " 'SC4002': {'Hypnogram.edf': './sleep-cassette/SC4002EC-Hypnogram.edf',\n",
       "  'PSG.edf': './sleep-cassette/SC4002E0-PSG.edf'},\n",
       " 'SC4721': {'PSG.edf': './sleep-cassette/SC4721E0-PSG.edf',\n",
       "  'Hypnogram.edf': './sleep-cassette/SC4721EC-Hypnogram.edf'},\n",
       " 'SC4322': {'PSG.edf': './sleep-cassette/SC4322E0-PSG.edf',\n",
       "  'Hypnogram.edf': './sleep-cassette/SC4322EC-Hypnogram.edf'},\n",
       " 'SC4192': {'PSG.edf': './sleep-cassette/SC4192E0-PSG.edf',\n",
       "  'Hypnogram.edf': './sleep-cassette/SC4192EV-Hypnogram.edf'},\n",
       " 'SC4041': {'PSG.edf': './sleep-cassette/SC4041E0-PSG.edf',\n",
       "  'Hypnogram.edf': './sleep-cassette/SC4041EC-Hypnogram.edf'},\n",
       " 'SC4541': {'Hypnogram.edf': './sleep-cassette/SC4541FA-Hypnogram.edf',\n",
       "  'PSG.edf': './sleep-cassette/SC4541F0-PSG.edf'},\n",
       " 'SC4662': {'PSG.edf': './sleep-cassette/SC4662E0-PSG.edf',\n",
       "  'Hypnogram.edf': './sleep-cassette/SC4662EJ-Hypnogram.edf'},\n",
       " 'SC4592': {'Hypnogram.edf': './sleep-cassette/SC4592GY-Hypnogram.edf',\n",
       "  'PSG.edf': './sleep-cassette/SC4592G0-PSG.edf'},\n",
       " 'SC4231': {'PSG.edf': './sleep-cassette/SC4231E0-PSG.edf',\n",
       "  'Hypnogram.edf': './sleep-cassette/SC4231EJ-Hypnogram.edf'},\n",
       " 'SC4101': {'PSG.edf': './sleep-cassette/SC4101E0-PSG.edf',\n",
       "  'Hypnogram.edf': './sleep-cassette/SC4101EC-Hypnogram.edf'},\n",
       " 'SC4572': {'Hypnogram.edf': './sleep-cassette/SC4572FC-Hypnogram.edf',\n",
       "  'PSG.edf': './sleep-cassette/SC4572F0-PSG.edf'},\n",
       " 'SC4031': {'Hypnogram.edf': './sleep-cassette/SC4031EC-Hypnogram.edf',\n",
       "  'PSG.edf': './sleep-cassette/SC4031E0-PSG.edf'},\n",
       " 'SC4261': {'PSG.edf': './sleep-cassette/SC4261F0-PSG.edf',\n",
       "  'Hypnogram.edf': './sleep-cassette/SC4261FM-Hypnogram.edf'},\n",
       " 'SC4801': {'PSG.edf': './sleep-cassette/SC4801G0-PSG.edf',\n",
       "  'Hypnogram.edf': './sleep-cassette/SC4801GC-Hypnogram.edf'},\n",
       " 'SC4071': {'Hypnogram.edf': './sleep-cassette/SC4071EC-Hypnogram.edf',\n",
       "  'PSG.edf': './sleep-cassette/SC4071E0-PSG.edf'},\n",
       " 'SC4001': {'Hypnogram.edf': './sleep-cassette/SC4001EC-Hypnogram.edf',\n",
       "  'PSG.edf': './sleep-cassette/SC4001E0-PSG.edf'}}"
      ]
     },
     "execution_count": 23,
     "metadata": {},
     "output_type": "execute_result"
    }
   ],
   "source": [
    "match_files(\"./sleep-cassette/\")"
   ]
  },
  {
   "cell_type": "code",
   "execution_count": 24,
   "id": "agreed-model",
   "metadata": {},
   "outputs": [
    {
     "name": "stdout",
     "output_type": "stream",
     "text": [
      "306\n"
     ]
    }
   ],
   "source": [
    "from torch.utils.data import Dataset, random_split, DataLoader\n",
    "class CustomSleepDataset(Dataset):\n",
    "    \n",
    "    def __init__(self, file_list):\n",
    "        self.x = []\n",
    "        self.y = []\n",
    "        for i in file_list.keys():\n",
    "            self.parse(file_list[i][\"PSG.edf\"], file_list[i][\"Hypnogram.edf\"])\n",
    "        self.x = torch.FloatTensor(self.x)\n",
    "        self.y = torch.LongTensor(self.y)\n",
    "    def parse(self, sleep, hypnogram):\n",
    "        _,_, header = highlevel.read_edf(hypnogram)\n",
    "        signals, _, _ = highlevel.read_edf(sleep)\n",
    "        for annotation in header['annotations']:\n",
    "            start = int(annotation[0])\n",
    "            end = int(annotation[1])\n",
    "            sleep_stage = annotation[2][-1]\n",
    "            if sleep_stage != '?':\n",
    "                for i in range(start, start+end, 30):\n",
    "                # pick i to i +30 for target range end\n",
    "                    self.x.append([ signals[0][i*100:(i+30)*100],signals[1][i*100:(i+30)*100], signals[2][i*100:(i+30)*100]])\n",
    "                    self.y.append(labels[sleep_stage])\n",
    "                \n",
    "    def __len__(self):\n",
    "\n",
    "        return len(self.y)\n",
    "\n",
    "    \n",
    "    def __getitem__(self, index):\n",
    "        \n",
    "        return (self.x[index], self.y[index])\n",
    "        \n",
    "\n",
    "# dataset = \n",
    "\n",
    "dataset = CustomSleepDataset(match_files(\"./sleep-cassette/\"))"
   ]
  },
  {
   "cell_type": "code",
   "execution_count": 25,
   "id": "collaborative-grass",
   "metadata": {},
   "outputs": [],
   "source": [
    "import pickle"
   ]
  },
  {
   "cell_type": "code",
   "execution_count": 26,
   "id": "technological-correlation",
   "metadata": {},
   "outputs": [],
   "source": [
    "filename = 'sleeper_dataset.pkl'\n",
    "outfile = open(filename,'wb')\n",
    "pickle.dump(dataset,outfile)\n",
    "outfile.close()"
   ]
  },
  {
   "cell_type": "code",
   "execution_count": 27,
   "id": "quarterly-optimum",
   "metadata": {},
   "outputs": [
    {
     "data": {
      "text/plain": [
       "torch.Size([168339, 3, 3000])"
      ]
     },
     "execution_count": 27,
     "metadata": {},
     "output_type": "execute_result"
    }
   ],
   "source": [
    "dataset.x.shape"
   ]
  },
  {
   "cell_type": "code",
   "execution_count": 30,
   "id": "approximate-improvement",
   "metadata": {},
   "outputs": [
    {
     "data": {
      "text/plain": [
       "tensor(4.3401)"
      ]
     },
     "execution_count": 30,
     "metadata": {},
     "output_type": "execute_result"
    }
   ],
   "source": [
    "(dataset.y*1.0).mean()"
   ]
  },
  {
   "cell_type": "code",
   "execution_count": null,
   "id": "regular-austria",
   "metadata": {},
   "outputs": [],
   "source": []
  }
 ],
 "metadata": {
  "kernelspec": {
   "display_name": "Python 3",
   "language": "python",
   "name": "python3"
  },
  "language_info": {
   "codemirror_mode": {
    "name": "ipython",
    "version": 3
   },
   "file_extension": ".py",
   "mimetype": "text/x-python",
   "name": "python",
   "nbconvert_exporter": "python",
   "pygments_lexer": "ipython3",
   "version": "3.8.5"
  }
 },
 "nbformat": 4,
 "nbformat_minor": 5
}
