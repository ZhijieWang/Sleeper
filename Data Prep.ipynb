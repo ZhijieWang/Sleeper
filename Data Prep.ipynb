{
 "cells": [
  {
   "cell_type": "code",
   "execution_count": 1,
   "id": "latest-merchant",
   "metadata": {},
   "outputs": [],
   "source": [
    "from pyedflib import highlevel\n",
    "import os\n",
    "import torch\n",
    "import torch.nn as nn\n",
    "import torch.nn.functional as F\n",
    "import numpy as np\n",
    "from scipy.signal import spectrogram"
   ]
  },
  {
   "cell_type": "code",
   "execution_count": 2,
   "id": "cubic-handle",
   "metadata": {},
   "outputs": [],
   "source": [
    "if torch.cuda.is_available():  \n",
    "  dev = \"cuda:0\" \n",
    "else:  \n",
    "  dev = \"cpu\"  \n",
    "device = torch.device(dev)  \n",
    "a = torch.zeros(4,3)    \n",
    "a = a.to(device)"
   ]
  },
  {
   "cell_type": "code",
   "execution_count": 3,
   "id": "conscious-elimination",
   "metadata": {},
   "outputs": [],
   "source": [
    "labels = {}\n",
    "#W, R, 1, 2, 3, 4, M \n",
    "labels['W']=5\n",
    "labels['R']=6\n",
    "labels['M']=0\n",
    "labels['1']=1\n",
    "labels['2']=2\n",
    "labels['3']=3\n",
    "labels['4']=4\n",
    "labels['e']=7"
   ]
  },
  {
   "cell_type": "code",
   "execution_count": 4,
   "id": "boring-motor",
   "metadata": {},
   "outputs": [],
   "source": [
    "\n",
    "# match data\n",
    "def match_files(folder):\n",
    "    files = os.listdir(folder)\n",
    "#     files = files[:200]\n",
    "    output = {}\n",
    "    for f in files:\n",
    "        subject = f.split(\"-\")[0][:6]\n",
    "        f_type = f.split(\"-\")[1]\n",
    "        val = output.get(subject, {})\n",
    "        val[f_type]=folder +f\n",
    "        output[subject]=val\n",
    "    keys = []\n",
    "    for i in output.keys():\n",
    "        if len(output[i])!= 2:\n",
    "            keys.append(i)\n",
    "    for key in keys: del output[key]\n",
    "    return output"
   ]
  },
  {
   "cell_type": "code",
   "execution_count": 5,
   "id": "plastic-tattoo",
   "metadata": {},
   "outputs": [
    {
     "data": {
      "text/plain": [
       "{'SC4451': {'PSG.edf': './sleep-cassette/SC4451F0-PSG.edf',\n",
       "  'Hypnogram.edf': './sleep-cassette/SC4451FY-Hypnogram.edf'},\n",
       " 'SC4172': {'Hypnogram.edf': './sleep-cassette/SC4172EC-Hypnogram.edf',\n",
       "  'PSG.edf': './sleep-cassette/SC4172E0-PSG.edf'},\n",
       " 'SC4582': {'Hypnogram.edf': './sleep-cassette/SC4582GP-Hypnogram.edf',\n",
       "  'PSG.edf': './sleep-cassette/SC4582G0-PSG.edf'},\n",
       " 'SC4812': {'PSG.edf': './sleep-cassette/SC4812G0-PSG.edf',\n",
       "  'Hypnogram.edf': './sleep-cassette/SC4812GV-Hypnogram.edf'},\n",
       " 'SC4722': {'Hypnogram.edf': './sleep-cassette/SC4722EM-Hypnogram.edf',\n",
       "  'PSG.edf': './sleep-cassette/SC4722E0-PSG.edf'},\n",
       " 'SC4421': {'PSG.edf': './sleep-cassette/SC4421E0-PSG.edf',\n",
       "  'Hypnogram.edf': './sleep-cassette/SC4421EA-Hypnogram.edf'},\n",
       " 'SC4712': {'Hypnogram.edf': './sleep-cassette/SC4712EA-Hypnogram.edf',\n",
       "  'PSG.edf': './sleep-cassette/SC4712E0-PSG.edf'},\n",
       " 'SC4162': {'PSG.edf': './sleep-cassette/SC4162E0-PSG.edf',\n",
       "  'Hypnogram.edf': './sleep-cassette/SC4162EC-Hypnogram.edf'},\n",
       " 'SC4552': {'PSG.edf': './sleep-cassette/SC4552F0-PSG.edf',\n",
       "  'Hypnogram.edf': './sleep-cassette/SC4552FW-Hypnogram.edf'},\n",
       " 'SC4581': {'Hypnogram.edf': './sleep-cassette/SC4581GM-Hypnogram.edf',\n",
       "  'PSG.edf': './sleep-cassette/SC4581G0-PSG.edf'},\n",
       " 'SC4191': {'PSG.edf': './sleep-cassette/SC4191E0-PSG.edf',\n",
       "  'Hypnogram.edf': './sleep-cassette/SC4191EP-Hypnogram.edf'},\n",
       " 'SC4642': {'Hypnogram.edf': './sleep-cassette/SC4642EP-Hypnogram.edf',\n",
       "  'PSG.edf': './sleep-cassette/SC4642E0-PSG.edf'},\n",
       " 'SC4622': {'Hypnogram.edf': './sleep-cassette/SC4622EJ-Hypnogram.edf',\n",
       "  'PSG.edf': './sleep-cassette/SC4622E0-PSG.edf'},\n",
       " 'SC4591': {'PSG.edf': './sleep-cassette/SC4591G0-PSG.edf',\n",
       "  'Hypnogram.edf': './sleep-cassette/SC4591GY-Hypnogram.edf'},\n",
       " 'SC4502': {'Hypnogram.edf': './sleep-cassette/SC4502EM-Hypnogram.edf',\n",
       "  'PSG.edf': './sleep-cassette/SC4502E0-PSG.edf'},\n",
       " 'SC4462': {'PSG.edf': './sleep-cassette/SC4462F0-PSG.edf',\n",
       "  'Hypnogram.edf': './sleep-cassette/SC4462FJ-Hypnogram.edf'},\n",
       " 'SC4602': {'PSG.edf': './sleep-cassette/SC4602E0-PSG.edf',\n",
       "  'Hypnogram.edf': './sleep-cassette/SC4602EJ-Hypnogram.edf'},\n",
       " 'SC4511': {'Hypnogram.edf': './sleep-cassette/SC4511EJ-Hypnogram.edf',\n",
       "  'PSG.edf': './sleep-cassette/SC4511E0-PSG.edf'},\n",
       " 'SC4341': {'PSG.edf': './sleep-cassette/SC4341F0-PSG.edf',\n",
       "  'Hypnogram.edf': './sleep-cassette/SC4341FA-Hypnogram.edf'},\n",
       " 'SC4551': {'PSG.edf': './sleep-cassette/SC4551F0-PSG.edf',\n",
       "  'Hypnogram.edf': './sleep-cassette/SC4551FC-Hypnogram.edf'},\n",
       " 'SC4542': {'Hypnogram.edf': './sleep-cassette/SC4542FW-Hypnogram.edf',\n",
       "  'PSG.edf': './sleep-cassette/SC4542F0-PSG.edf'},\n",
       " 'SC4312': {'PSG.edf': './sleep-cassette/SC4312E0-PSG.edf',\n",
       "  'Hypnogram.edf': './sleep-cassette/SC4312EM-Hypnogram.edf'},\n",
       " 'SC4711': {'Hypnogram.edf': './sleep-cassette/SC4711EC-Hypnogram.edf',\n",
       "  'PSG.edf': './sleep-cassette/SC4711E0-PSG.edf'},\n",
       " 'SC4512': {'Hypnogram.edf': './sleep-cassette/SC4512EW-Hypnogram.edf',\n",
       "  'PSG.edf': './sleep-cassette/SC4512E0-PSG.edf'},\n",
       " 'SC4372': {'Hypnogram.edf': './sleep-cassette/SC4372FC-Hypnogram.edf',\n",
       "  'PSG.edf': './sleep-cassette/SC4372F0-PSG.edf'},\n",
       " 'SC4141': {'Hypnogram.edf': './sleep-cassette/SC4141EU-Hypnogram.edf',\n",
       "  'PSG.edf': './sleep-cassette/SC4141E0-PSG.edf'},\n",
       " 'SC4752': {'Hypnogram.edf': './sleep-cassette/SC4752EM-Hypnogram.edf',\n",
       "  'PSG.edf': './sleep-cassette/SC4752E0-PSG.edf'},\n",
       " 'SC4251': {'Hypnogram.edf': './sleep-cassette/SC4251EP-Hypnogram.edf',\n",
       "  'PSG.edf': './sleep-cassette/SC4251E0-PSG.edf'},\n",
       " 'SC4131': {'Hypnogram.edf': './sleep-cassette/SC4131EC-Hypnogram.edf',\n",
       "  'PSG.edf': './sleep-cassette/SC4131E0-PSG.edf'},\n",
       " 'SC4732': {'PSG.edf': './sleep-cassette/SC4732E0-PSG.edf',\n",
       "  'Hypnogram.edf': './sleep-cassette/SC4732EJ-Hypnogram.edf'},\n",
       " 'SC4411': {'PSG.edf': './sleep-cassette/SC4411E0-PSG.edf',\n",
       "  'Hypnogram.edf': './sleep-cassette/SC4411EJ-Hypnogram.edf'},\n",
       " 'SC4072': {'Hypnogram.edf': './sleep-cassette/SC4072EH-Hypnogram.edf',\n",
       "  'PSG.edf': './sleep-cassette/SC4072E0-PSG.edf'},\n",
       " 'SC4281': {'PSG.edf': './sleep-cassette/SC4281G0-PSG.edf',\n",
       "  'Hypnogram.edf': './sleep-cassette/SC4281GC-Hypnogram.edf'},\n",
       " 'SC4201': {'PSG.edf': './sleep-cassette/SC4201E0-PSG.edf',\n",
       "  'Hypnogram.edf': './sleep-cassette/SC4201EC-Hypnogram.edf'},\n",
       " 'SC4522': {'Hypnogram.edf': './sleep-cassette/SC4522EM-Hypnogram.edf',\n",
       "  'PSG.edf': './sleep-cassette/SC4522E0-PSG.edf'},\n",
       " 'SC4491': {'PSG.edf': './sleep-cassette/SC4491G0-PSG.edf',\n",
       "  'Hypnogram.edf': './sleep-cassette/SC4491GJ-Hypnogram.edf'},\n",
       " 'SC4412': {'Hypnogram.edf': './sleep-cassette/SC4412EM-Hypnogram.edf',\n",
       "  'PSG.edf': './sleep-cassette/SC4412E0-PSG.edf'},\n",
       " 'SC4272': {'PSG.edf': './sleep-cassette/SC4272F0-PSG.edf',\n",
       "  'Hypnogram.edf': './sleep-cassette/SC4272FM-Hypnogram.edf'},\n",
       " 'SC4051': {'PSG.edf': './sleep-cassette/SC4051E0-PSG.edf',\n",
       "  'Hypnogram.edf': './sleep-cassette/SC4051EC-Hypnogram.edf'},\n",
       " 'SC4352': {'PSG.edf': './sleep-cassette/SC4352F0-PSG.edf',\n",
       "  'Hypnogram.edf': './sleep-cassette/SC4352FV-Hypnogram.edf'},\n",
       " 'SC4342': {'Hypnogram.edf': './sleep-cassette/SC4342FA-Hypnogram.edf',\n",
       "  'PSG.edf': './sleep-cassette/SC4342F0-PSG.edf'},\n",
       " 'SC4301': {'Hypnogram.edf': './sleep-cassette/SC4301EC-Hypnogram.edf',\n",
       "  'PSG.edf': './sleep-cassette/SC4301E0-PSG.edf'},\n",
       " 'SC4742': {'PSG.edf': './sleep-cassette/SC4742E0-PSG.edf',\n",
       "  'Hypnogram.edf': './sleep-cassette/SC4742EC-Hypnogram.edf'},\n",
       " 'SC4042': {'Hypnogram.edf': './sleep-cassette/SC4042EC-Hypnogram.edf',\n",
       "  'PSG.edf': './sleep-cassette/SC4042E0-PSG.edf'},\n",
       " 'SC4302': {'PSG.edf': './sleep-cassette/SC4302E0-PSG.edf',\n",
       "  'Hypnogram.edf': './sleep-cassette/SC4302EV-Hypnogram.edf'},\n",
       " 'SC4032': {'PSG.edf': './sleep-cassette/SC4032E0-PSG.edf',\n",
       "  'Hypnogram.edf': './sleep-cassette/SC4032EP-Hypnogram.edf'},\n",
       " 'SC4401': {'Hypnogram.edf': './sleep-cassette/SC4401EC-Hypnogram.edf',\n",
       "  'PSG.edf': './sleep-cassette/SC4401E0-PSG.edf'},\n",
       " 'SC4821': {'Hypnogram.edf': './sleep-cassette/SC4821GC-Hypnogram.edf',\n",
       "  'PSG.edf': './sleep-cassette/SC4821G0-PSG.edf'},\n",
       " 'SC4441': {'PSG.edf': './sleep-cassette/SC4441E0-PSG.edf',\n",
       "  'Hypnogram.edf': './sleep-cassette/SC4441EC-Hypnogram.edf'},\n",
       " 'SC4241': {'Hypnogram.edf': './sleep-cassette/SC4241EC-Hypnogram.edf',\n",
       "  'PSG.edf': './sleep-cassette/SC4241E0-PSG.edf'},\n",
       " 'SC4122': {'PSG.edf': './sleep-cassette/SC4122E0-PSG.edf',\n",
       "  'Hypnogram.edf': './sleep-cassette/SC4122EV-Hypnogram.edf'},\n",
       " 'SC4771': {'Hypnogram.edf': './sleep-cassette/SC4771GC-Hypnogram.edf',\n",
       "  'PSG.edf': './sleep-cassette/SC4771G0-PSG.edf'},\n",
       " 'SC4432': {'Hypnogram.edf': './sleep-cassette/SC4432EM-Hypnogram.edf',\n",
       "  'PSG.edf': './sleep-cassette/SC4432E0-PSG.edf'},\n",
       " 'SC4672': {'Hypnogram.edf': './sleep-cassette/SC4672GV-Hypnogram.edf',\n",
       "  'PSG.edf': './sleep-cassette/SC4672G0-PSG.edf'},\n",
       " 'SC4501': {'PSG.edf': './sleep-cassette/SC4501E0-PSG.edf',\n",
       "  'Hypnogram.edf': './sleep-cassette/SC4501EW-Hypnogram.edf'},\n",
       " 'SC4061': {'Hypnogram.edf': './sleep-cassette/SC4061EC-Hypnogram.edf',\n",
       "  'PSG.edf': './sleep-cassette/SC4061E0-PSG.edf'},\n",
       " 'SC4152': {'PSG.edf': './sleep-cassette/SC4152E0-PSG.edf',\n",
       "  'Hypnogram.edf': './sleep-cassette/SC4152EC-Hypnogram.edf'},\n",
       " 'SC4472': {'Hypnogram.edf': './sleep-cassette/SC4472FA-Hypnogram.edf',\n",
       "  'PSG.edf': './sleep-cassette/SC4472F0-PSG.edf'},\n",
       " 'SC4232': {'PSG.edf': './sleep-cassette/SC4232E0-PSG.edf',\n",
       "  'Hypnogram.edf': './sleep-cassette/SC4232EV-Hypnogram.edf'},\n",
       " 'SC4181': {'Hypnogram.edf': './sleep-cassette/SC4181EC-Hypnogram.edf',\n",
       "  'PSG.edf': './sleep-cassette/SC4181E0-PSG.edf'},\n",
       " 'SC4292': {'Hypnogram.edf': './sleep-cassette/SC4292GC-Hypnogram.edf',\n",
       "  'PSG.edf': './sleep-cassette/SC4292G0-PSG.edf'},\n",
       " 'SC4081': {'Hypnogram.edf': './sleep-cassette/SC4081EC-Hypnogram.edf',\n",
       "  'PSG.edf': './sleep-cassette/SC4081E0-PSG.edf'},\n",
       " 'SC4062': {'Hypnogram.edf': './sleep-cassette/SC4062EC-Hypnogram.edf',\n",
       "  'PSG.edf': './sleep-cassette/SC4062E0-PSG.edf'},\n",
       " 'SC4612': {'PSG.edf': './sleep-cassette/SC4612E0-PSG.edf',\n",
       "  'Hypnogram.edf': './sleep-cassette/SC4612EA-Hypnogram.edf'},\n",
       " 'SC4182': {'Hypnogram.edf': './sleep-cassette/SC4182EC-Hypnogram.edf',\n",
       "  'PSG.edf': './sleep-cassette/SC4182E0-PSG.edf'},\n",
       " 'SC4601': {'PSG.edf': './sleep-cassette/SC4601E0-PSG.edf',\n",
       "  'Hypnogram.edf': './sleep-cassette/SC4601EC-Hypnogram.edf'},\n",
       " 'SC4762': {'Hypnogram.edf': './sleep-cassette/SC4762EG-Hypnogram.edf',\n",
       "  'PSG.edf': './sleep-cassette/SC4762E0-PSG.edf'},\n",
       " 'SC4211': {'Hypnogram.edf': './sleep-cassette/SC4211EC-Hypnogram.edf',\n",
       "  'PSG.edf': './sleep-cassette/SC4211E0-PSG.edf'},\n",
       " 'SC4481': {'Hypnogram.edf': './sleep-cassette/SC4481FV-Hypnogram.edf',\n",
       "  'PSG.edf': './sleep-cassette/SC4481F0-PSG.edf'},\n",
       " 'SC4671': {'PSG.edf': './sleep-cassette/SC4671G0-PSG.edf',\n",
       "  'Hypnogram.edf': './sleep-cassette/SC4671GJ-Hypnogram.edf'},\n",
       " 'SC4321': {'PSG.edf': './sleep-cassette/SC4321E0-PSG.edf',\n",
       "  'Hypnogram.edf': './sleep-cassette/SC4321EC-Hypnogram.edf'},\n",
       " 'SC4631': {'PSG.edf': './sleep-cassette/SC4631E0-PSG.edf',\n",
       "  'Hypnogram.edf': './sleep-cassette/SC4631EM-Hypnogram.edf'},\n",
       " 'SC4121': {'PSG.edf': './sleep-cassette/SC4121E0-PSG.edf',\n",
       "  'Hypnogram.edf': './sleep-cassette/SC4121EC-Hypnogram.edf'},\n",
       " 'SC4422': {'Hypnogram.edf': './sleep-cassette/SC4422EA-Hypnogram.edf',\n",
       "  'PSG.edf': './sleep-cassette/SC4422E0-PSG.edf'},\n",
       " 'SC4212': {'PSG.edf': './sleep-cassette/SC4212E0-PSG.edf',\n",
       "  'Hypnogram.edf': './sleep-cassette/SC4212EC-Hypnogram.edf'},\n",
       " 'SC4532': {'PSG.edf': './sleep-cassette/SC4532E0-PSG.edf',\n",
       "  'Hypnogram.edf': './sleep-cassette/SC4532EV-Hypnogram.edf'},\n",
       " 'SC4052': {'Hypnogram.edf': './sleep-cassette/SC4052EC-Hypnogram.edf',\n",
       "  'PSG.edf': './sleep-cassette/SC4052E0-PSG.edf'},\n",
       " 'SC4142': {'Hypnogram.edf': './sleep-cassette/SC4142EU-Hypnogram.edf',\n",
       "  'PSG.edf': './sleep-cassette/SC4142E0-PSG.edf'},\n",
       " 'SC4452': {'PSG.edf': './sleep-cassette/SC4452F0-PSG.edf',\n",
       "  'Hypnogram.edf': './sleep-cassette/SC4452FW-Hypnogram.edf'},\n",
       " 'SC4562': {'PSG.edf': './sleep-cassette/SC4562F0-PSG.edf',\n",
       "  'Hypnogram.edf': './sleep-cassette/SC4562FJ-Hypnogram.edf'},\n",
       " 'SC4772': {'Hypnogram.edf': './sleep-cassette/SC4772GC-Hypnogram.edf',\n",
       "  'PSG.edf': './sleep-cassette/SC4772G0-PSG.edf'},\n",
       " 'SC4112': {'Hypnogram.edf': './sleep-cassette/SC4112EC-Hypnogram.edf',\n",
       "  'PSG.edf': './sleep-cassette/SC4112E0-PSG.edf'},\n",
       " 'SC4002': {'Hypnogram.edf': './sleep-cassette/SC4002EC-Hypnogram.edf',\n",
       "  'PSG.edf': './sleep-cassette/SC4002E0-PSG.edf'},\n",
       " 'SC4741': {'Hypnogram.edf': './sleep-cassette/SC4741EA-Hypnogram.edf',\n",
       "  'PSG.edf': './sleep-cassette/SC4741E0-PSG.edf'},\n",
       " 'SC4531': {'PSG.edf': './sleep-cassette/SC4531E0-PSG.edf',\n",
       "  'Hypnogram.edf': './sleep-cassette/SC4531EM-Hypnogram.edf'},\n",
       " 'SC4651': {'Hypnogram.edf': './sleep-cassette/SC4651EP-Hypnogram.edf',\n",
       "  'PSG.edf': './sleep-cassette/SC4651E0-PSG.edf'},\n",
       " 'SC4252': {'PSG.edf': './sleep-cassette/SC4252E0-PSG.edf',\n",
       "  'Hypnogram.edf': './sleep-cassette/SC4252EU-Hypnogram.edf'},\n",
       " 'SC4731': {'Hypnogram.edf': './sleep-cassette/SC4731EM-Hypnogram.edf',\n",
       "  'PSG.edf': './sleep-cassette/SC4731E0-PSG.edf'},\n",
       " 'SC4721': {'PSG.edf': './sleep-cassette/SC4721E0-PSG.edf',\n",
       "  'Hypnogram.edf': './sleep-cassette/SC4721EC-Hypnogram.edf'},\n",
       " 'SC4322': {'PSG.edf': './sleep-cassette/SC4322E0-PSG.edf',\n",
       "  'Hypnogram.edf': './sleep-cassette/SC4322EC-Hypnogram.edf'},\n",
       " 'SC4192': {'PSG.edf': './sleep-cassette/SC4192E0-PSG.edf',\n",
       "  'Hypnogram.edf': './sleep-cassette/SC4192EV-Hypnogram.edf'},\n",
       " 'SC4362': {'Hypnogram.edf': './sleep-cassette/SC4362FC-Hypnogram.edf',\n",
       "  'PSG.edf': './sleep-cassette/SC4362F0-PSG.edf'},\n",
       " 'SC4171': {'Hypnogram.edf': './sleep-cassette/SC4171EU-Hypnogram.edf',\n",
       "  'PSG.edf': './sleep-cassette/SC4171E0-PSG.edf'},\n",
       " 'SC4022': {'Hypnogram.edf': './sleep-cassette/SC4022EJ-Hypnogram.edf',\n",
       "  'PSG.edf': './sleep-cassette/SC4022E0-PSG.edf'},\n",
       " 'SC4751': {'Hypnogram.edf': './sleep-cassette/SC4751EC-Hypnogram.edf',\n",
       "  'PSG.edf': './sleep-cassette/SC4751E0-PSG.edf'},\n",
       " 'SC4041': {'PSG.edf': './sleep-cassette/SC4041E0-PSG.edf',\n",
       "  'Hypnogram.edf': './sleep-cassette/SC4041EC-Hypnogram.edf'},\n",
       " 'SC4011': {'Hypnogram.edf': './sleep-cassette/SC4011EH-Hypnogram.edf',\n",
       "  'PSG.edf': './sleep-cassette/SC4011E0-PSG.edf'},\n",
       " 'SC4541': {'Hypnogram.edf': './sleep-cassette/SC4541FA-Hypnogram.edf',\n",
       "  'PSG.edf': './sleep-cassette/SC4541F0-PSG.edf'},\n",
       " 'SC4621': {'PSG.edf': './sleep-cassette/SC4621E0-PSG.edf',\n",
       "  'Hypnogram.edf': './sleep-cassette/SC4621EV-Hypnogram.edf'},\n",
       " 'SC4571': {'Hypnogram.edf': './sleep-cassette/SC4571FV-Hypnogram.edf',\n",
       "  'PSG.edf': './sleep-cassette/SC4571F0-PSG.edf'},\n",
       " 'SC4471': {'PSG.edf': './sleep-cassette/SC4471F0-PSG.edf',\n",
       "  'Hypnogram.edf': './sleep-cassette/SC4471FA-Hypnogram.edf'},\n",
       " 'SC4662': {'PSG.edf': './sleep-cassette/SC4662E0-PSG.edf',\n",
       "  'Hypnogram.edf': './sleep-cassette/SC4662EJ-Hypnogram.edf'},\n",
       " 'SC4291': {'PSG.edf': './sleep-cassette/SC4291G0-PSG.edf',\n",
       "  'Hypnogram.edf': './sleep-cassette/SC4291GA-Hypnogram.edf'},\n",
       " 'SC4012': {'PSG.edf': './sleep-cassette/SC4012E0-PSG.edf',\n",
       "  'Hypnogram.edf': './sleep-cassette/SC4012EC-Hypnogram.edf'},\n",
       " 'SC4381': {'PSG.edf': './sleep-cassette/SC4381F0-PSG.edf',\n",
       "  'Hypnogram.edf': './sleep-cassette/SC4381FC-Hypnogram.edf'},\n",
       " 'SC4592': {'Hypnogram.edf': './sleep-cassette/SC4592GY-Hypnogram.edf',\n",
       "  'PSG.edf': './sleep-cassette/SC4592G0-PSG.edf'},\n",
       " 'SC4761': {'Hypnogram.edf': './sleep-cassette/SC4761EP-Hypnogram.edf',\n",
       "  'PSG.edf': './sleep-cassette/SC4761E0-PSG.edf'},\n",
       " 'SC4331': {'PSG.edf': './sleep-cassette/SC4331F0-PSG.edf',\n",
       "  'Hypnogram.edf': './sleep-cassette/SC4331FV-Hypnogram.edf'},\n",
       " 'SC4092': {'Hypnogram.edf': './sleep-cassette/SC4092EC-Hypnogram.edf',\n",
       "  'PSG.edf': './sleep-cassette/SC4092E0-PSG.edf'},\n",
       " 'SC4652': {'Hypnogram.edf': './sleep-cassette/SC4652EG-Hypnogram.edf',\n",
       "  'PSG.edf': './sleep-cassette/SC4652E0-PSG.edf'},\n",
       " 'SC4262': {'PSG.edf': './sleep-cassette/SC4262F0-PSG.edf',\n",
       "  'Hypnogram.edf': './sleep-cassette/SC4262FC-Hypnogram.edf'},\n",
       " 'SC4231': {'PSG.edf': './sleep-cassette/SC4231E0-PSG.edf',\n",
       "  'Hypnogram.edf': './sleep-cassette/SC4231EJ-Hypnogram.edf'},\n",
       " 'SC4111': {'Hypnogram.edf': './sleep-cassette/SC4111EC-Hypnogram.edf',\n",
       "  'PSG.edf': './sleep-cassette/SC4111E0-PSG.edf'},\n",
       " 'SC4101': {'PSG.edf': './sleep-cassette/SC4101E0-PSG.edf',\n",
       "  'Hypnogram.edf': './sleep-cassette/SC4101EC-Hypnogram.edf'},\n",
       " 'SC4572': {'Hypnogram.edf': './sleep-cassette/SC4572FC-Hypnogram.edf',\n",
       "  'PSG.edf': './sleep-cassette/SC4572F0-PSG.edf'},\n",
       " 'SC4311': {'PSG.edf': './sleep-cassette/SC4311E0-PSG.edf',\n",
       "  'Hypnogram.edf': './sleep-cassette/SC4311EC-Hypnogram.edf'},\n",
       " 'SC4332': {'Hypnogram.edf': './sleep-cassette/SC4332FC-Hypnogram.edf',\n",
       "  'PSG.edf': './sleep-cassette/SC4332F0-PSG.edf'},\n",
       " 'SC4102': {'Hypnogram.edf': './sleep-cassette/SC4102EC-Hypnogram.edf',\n",
       "  'PSG.edf': './sleep-cassette/SC4102E0-PSG.edf'},\n",
       " 'SC4351': {'Hypnogram.edf': './sleep-cassette/SC4351FA-Hypnogram.edf',\n",
       "  'PSG.edf': './sleep-cassette/SC4351F0-PSG.edf'},\n",
       " 'SC4031': {'Hypnogram.edf': './sleep-cassette/SC4031EC-Hypnogram.edf',\n",
       "  'PSG.edf': './sleep-cassette/SC4031E0-PSG.edf'},\n",
       " 'SC4611': {'Hypnogram.edf': './sleep-cassette/SC4611EG-Hypnogram.edf',\n",
       "  'PSG.edf': './sleep-cassette/SC4611E0-PSG.edf'},\n",
       " 'SC4202': {'PSG.edf': './sleep-cassette/SC4202E0-PSG.edf',\n",
       "  'Hypnogram.edf': './sleep-cassette/SC4202EC-Hypnogram.edf'},\n",
       " 'SC4261': {'PSG.edf': './sleep-cassette/SC4261F0-PSG.edf',\n",
       "  'Hypnogram.edf': './sleep-cassette/SC4261FM-Hypnogram.edf'},\n",
       " 'SC4461': {'Hypnogram.edf': './sleep-cassette/SC4461FA-Hypnogram.edf',\n",
       "  'PSG.edf': './sleep-cassette/SC4461F0-PSG.edf'},\n",
       " 'SC4801': {'PSG.edf': './sleep-cassette/SC4801G0-PSG.edf',\n",
       "  'Hypnogram.edf': './sleep-cassette/SC4801GC-Hypnogram.edf'},\n",
       " 'SC4702': {'PSG.edf': './sleep-cassette/SC4702E0-PSG.edf',\n",
       "  'Hypnogram.edf': './sleep-cassette/SC4702EA-Hypnogram.edf'},\n",
       " 'SC4221': {'Hypnogram.edf': './sleep-cassette/SC4221EJ-Hypnogram.edf',\n",
       "  'PSG.edf': './sleep-cassette/SC4221E0-PSG.edf'},\n",
       " 'SC4021': {'Hypnogram.edf': './sleep-cassette/SC4021EH-Hypnogram.edf',\n",
       "  'PSG.edf': './sleep-cassette/SC4021E0-PSG.edf'},\n",
       " 'SC4082': {'Hypnogram.edf': './sleep-cassette/SC4082EP-Hypnogram.edf',\n",
       "  'PSG.edf': './sleep-cassette/SC4082E0-PSG.edf'},\n",
       " 'SC4161': {'PSG.edf': './sleep-cassette/SC4161E0-PSG.edf',\n",
       "  'Hypnogram.edf': './sleep-cassette/SC4161EC-Hypnogram.edf'},\n",
       " 'SC4641': {'PSG.edf': './sleep-cassette/SC4641E0-PSG.edf',\n",
       "  'Hypnogram.edf': './sleep-cassette/SC4641EP-Hypnogram.edf'},\n",
       " 'SC4632': {'Hypnogram.edf': './sleep-cassette/SC4632EA-Hypnogram.edf',\n",
       "  'PSG.edf': './sleep-cassette/SC4632E0-PSG.edf'},\n",
       " 'SC4071': {'Hypnogram.edf': './sleep-cassette/SC4071EC-Hypnogram.edf',\n",
       "  'PSG.edf': './sleep-cassette/SC4071E0-PSG.edf'},\n",
       " 'SC4242': {'Hypnogram.edf': './sleep-cassette/SC4242EA-Hypnogram.edf',\n",
       "  'PSG.edf': './sleep-cassette/SC4242E0-PSG.edf'},\n",
       " 'SC4001': {'Hypnogram.edf': './sleep-cassette/SC4001EC-Hypnogram.edf',\n",
       "  'PSG.edf': './sleep-cassette/SC4001E0-PSG.edf'},\n",
       " 'SC4151': {'PSG.edf': './sleep-cassette/SC4151E0-PSG.edf',\n",
       "  'Hypnogram.edf': './sleep-cassette/SC4151EC-Hypnogram.edf'},\n",
       " 'SC4811': {'PSG.edf': './sleep-cassette/SC4811G0-PSG.edf',\n",
       "  'Hypnogram.edf': './sleep-cassette/SC4811GG-Hypnogram.edf'},\n",
       " 'SC4482': {'PSG.edf': './sleep-cassette/SC4482F0-PSG.edf',\n",
       "  'Hypnogram.edf': './sleep-cassette/SC4482FJ-Hypnogram.edf'},\n",
       " 'SC4822': {'PSG.edf': './sleep-cassette/SC4822G0-PSG.edf',\n",
       "  'Hypnogram.edf': './sleep-cassette/SC4822GC-Hypnogram.edf'},\n",
       " 'SC4402': {'Hypnogram.edf': './sleep-cassette/SC4402EW-Hypnogram.edf',\n",
       "  'PSG.edf': './sleep-cassette/SC4402E0-PSG.edf'},\n",
       " 'SC4431': {'Hypnogram.edf': './sleep-cassette/SC4431EM-Hypnogram.edf',\n",
       "  'PSG.edf': './sleep-cassette/SC4431E0-PSG.edf'},\n",
       " 'SC4282': {'Hypnogram.edf': './sleep-cassette/SC4282GC-Hypnogram.edf',\n",
       "  'PSG.edf': './sleep-cassette/SC4282G0-PSG.edf'},\n",
       " 'SC4802': {'Hypnogram.edf': './sleep-cassette/SC4802GV-Hypnogram.edf',\n",
       "  'PSG.edf': './sleep-cassette/SC4802G0-PSG.edf'},\n",
       " 'SC4492': {'Hypnogram.edf': './sleep-cassette/SC4492GJ-Hypnogram.edf',\n",
       "  'PSG.edf': './sleep-cassette/SC4492G0-PSG.edf'},\n",
       " 'SC4222': {'Hypnogram.edf': './sleep-cassette/SC4222EC-Hypnogram.edf',\n",
       "  'PSG.edf': './sleep-cassette/SC4222E0-PSG.edf'},\n",
       " 'SC4701': {'Hypnogram.edf': './sleep-cassette/SC4701EC-Hypnogram.edf',\n",
       "  'PSG.edf': './sleep-cassette/SC4701E0-PSG.edf'},\n",
       " 'SC4382': {'PSG.edf': './sleep-cassette/SC4382F0-PSG.edf',\n",
       "  'Hypnogram.edf': './sleep-cassette/SC4382FW-Hypnogram.edf'},\n",
       " 'SC4271': {'Hypnogram.edf': './sleep-cassette/SC4271FC-Hypnogram.edf',\n",
       "  'PSG.edf': './sleep-cassette/SC4271F0-PSG.edf'},\n",
       " 'SC4091': {'Hypnogram.edf': './sleep-cassette/SC4091EC-Hypnogram.edf',\n",
       "  'PSG.edf': './sleep-cassette/SC4091E0-PSG.edf'},\n",
       " 'SC4661': {'PSG.edf': './sleep-cassette/SC4661E0-PSG.edf',\n",
       "  'Hypnogram.edf': './sleep-cassette/SC4661EJ-Hypnogram.edf'},\n",
       " 'SC4371': {'PSG.edf': './sleep-cassette/SC4371F0-PSG.edf',\n",
       "  'Hypnogram.edf': './sleep-cassette/SC4371FA-Hypnogram.edf'},\n",
       " 'SC4442': {'Hypnogram.edf': './sleep-cassette/SC4442EV-Hypnogram.edf',\n",
       "  'PSG.edf': './sleep-cassette/SC4442E0-PSG.edf'},\n",
       " 'SC4561': {'Hypnogram.edf': './sleep-cassette/SC4561FJ-Hypnogram.edf',\n",
       "  'PSG.edf': './sleep-cassette/SC4561F0-PSG.edf'}}"
      ]
     },
     "execution_count": 5,
     "metadata": {},
     "output_type": "execute_result"
    }
   ],
   "source": [
    "match_files(\"./sleep-cassette/\")"
   ]
  },
  {
   "cell_type": "code",
   "execution_count": 6,
   "id": "agreed-model",
   "metadata": {},
   "outputs": [],
   "source": [
    "from torch.utils.data import Dataset, random_split, DataLoader\n",
    "duration_tracker = {}\n",
    "duration_tracker[0]=[]\n",
    "duration_tracker[1]=[]\n",
    "duration_tracker[2]=[]\n",
    "duration_tracker[3]=[]\n",
    "duration_tracker[4]=[]\n",
    "class CustomSleepDataset(Dataset):\n",
    "    \n",
    "    def __init__(self, file_list):\n",
    "        self.x = []\n",
    "        self.y = []\n",
    "        for i in file_list.keys():\n",
    "            self.parse(file_list[i][\"PSG.edf\"], file_list[i][\"Hypnogram.edf\"])\n",
    "        self.x = torch.FloatTensor(self.x)\n",
    "        self.y = torch.LongTensor(self.y)\n",
    "    def parse(self, sleep, hypnogram):\n",
    "        _,_, header = highlevel.read_edf(hypnogram)\n",
    "        signals, _, _ = highlevel.read_edf(sleep)\n",
    "        for annotation in header['annotations']:\n",
    "            start = int(annotation[0])\n",
    "            end = int(annotation[1])\n",
    "            sleep_stage = annotation[2][-1]\n",
    "            if (sleep_stage != '?') and (sleep_stage !='W') and (sleep_stage != 'R') and (sleep_stage != 'e'):\n",
    "                duration_tracker[labels[sleep_stage]].append(end)\n",
    "                for i in range(start, start+end, 30):\n",
    "                # pick i to i +30 for target range end\n",
    "                    self.x.append([ signals[0][i*100:(i+30)*100],signals[1][i*100:(i+30)*100], signals[2][i*100:(i+30)*100]])\n",
    "                    self.y.append(labels[sleep_stage])\n",
    "            \n",
    "    def __len__(self):\n",
    "\n",
    "        return len(self.y)\n",
    "    \n",
    "    \n",
    "    def __getitem__(self, index):\n",
    "        \n",
    "        return (self.x[index], self.y[index])\n",
    "        \n",
    "\n",
    "# dataset = \n",
    "\n",
    "dataset = CustomSleepDataset(match_files(\"./sleep-cassette/\"))\n"
   ]
  },
  {
   "cell_type": "code",
   "execution_count": 7,
   "id": "weighted-egypt",
   "metadata": {},
   "outputs": [
    {
     "data": {
      "text/plain": [
       "tensor([    0, 21522, 69132,  8793,  4246])"
      ]
     },
     "execution_count": 7,
     "metadata": {},
     "output_type": "execute_result"
    }
   ],
   "source": [
    "dataset.y.bincount()"
   ]
  },
  {
   "cell_type": "code",
   "execution_count": 8,
   "id": "understanding-diabetes",
   "metadata": {},
   "outputs": [
    {
     "data": {
      "text/plain": [
       "[1]"
      ]
     },
     "execution_count": 8,
     "metadata": {},
     "output_type": "execute_result"
    }
   ],
   "source": [
    "a = []\n",
    "a.append(1)\n",
    "a"
   ]
  },
  {
   "cell_type": "code",
   "execution_count": 9,
   "id": "occupational-ribbon",
   "metadata": {},
   "outputs": [
    {
     "data": {
      "image/png": "[encoded data removed]",
      "text/plain": [
       "<Figure size 432x288 with 1 Axes>"
      ]
     },
     "metadata": {
      "needs_background": "light"
     },
     "output_type": "display_data"
    }
   ],
   "source": [
    "import matplotlib.pyplot as plt\n",
    "import numpy as np\n",
    "from matplotlib import colors\n",
    "from matplotlib.ticker import PercentFormatter\n",
    "n_bins = 4\n",
    "\n",
    "# Generate a normal distribution, center at x=0 and y=5\n",
    "x =dataset.y.numpy()\n",
    "y = dataset.y.bincount()\n",
    "# We can set the number of bins with the `bins` kwarg\n",
    "\n",
    "plt.hist(x, bins=[1,2,3,4,5])\n",
    "plt.xticks([0,1,2,3,4,5])\n",
    "plt.gca().set(title='Sleep Stage Distribution', ylabel='Count');"
   ]
  },
  {
   "cell_type": "code",
   "execution_count": null,
   "id": "graphic-essex",
   "metadata": {},
   "outputs": [],
   "source": []
  },
  {
   "cell_type": "code",
   "execution_count": 10,
   "id": "collaborative-grass",
   "metadata": {},
   "outputs": [],
   "source": [
    "import pickle"
   ]
  },
  {
   "cell_type": "code",
   "execution_count": 11,
   "id": "technological-correlation",
   "metadata": {},
   "outputs": [],
   "source": [
    "filename = 'sleeper_dataset.pkl'\n",
    "outfile = open(filename,'wb')\n",
    "pickle.dump(dataset,outfile)\n",
    "outfile.close()"
   ]
  },
  {
   "cell_type": "code",
   "execution_count": 12,
   "id": "quarterly-optimum",
   "metadata": {},
   "outputs": [
    {
     "data": {
      "text/plain": [
       "torch.Size([103693, 3, 3000])"
      ]
     },
     "execution_count": 12,
     "metadata": {},
     "output_type": "execute_result"
    }
   ],
   "source": [
    "dataset.x.shape"
   ]
  },
  {
   "cell_type": "code",
   "execution_count": 13,
   "id": "approximate-improvement",
   "metadata": {},
   "outputs": [
    {
     "data": {
      "text/plain": [
       "tensor(1.9591)"
      ]
     },
     "execution_count": 13,
     "metadata": {},
     "output_type": "execute_result"
    }
   ],
   "source": [
    "(dataset.y*1.0).mean()"
   ]
  },
  {
   "cell_type": "code",
   "execution_count": 14,
   "id": "regular-austria",
   "metadata": {},
   "outputs": [],
   "source": [
    "def extract_band(data, fs):\n",
    "    ###\n",
    "    ### data: input \n",
    "    ### fs -- frequency of sampling\n",
    "    \n",
    "    # modified from https://dsp.stackexchange.com/questions/45345/how-to-correctly-compute-the-eeg-frequency-bands-with-python\n",
    "\n",
    "    # Get real amplitudes of FFT (only in postive frequencies)\n",
    "    fft_vals = np.absolute(np.fft.rfft(data))\n",
    "\n",
    "    # Get frequencies for amplitudes in Hz\n",
    "    fft_freq = np.fft.rfftfreq(len(data), 1.0/fs)\n",
    "\n",
    "    # Define EEG bands\n",
    "    eeg_bands = {'Delta': (0, 4),\n",
    "             'Theta': (4, 8),\n",
    "             'Alpha': (8, 12),\n",
    "             'Beta': (12, 30),\n",
    "             'Gamma': (30, 45)}\n",
    "\n",
    "    # Take the mean of the fft amplitude for each EEG band\n",
    "    eeg_band_fft = dict()\n",
    "    for band in eeg_bands:  \n",
    "        freq_ix = np.where((fft_freq >= eeg_bands[band][0]) & \n",
    "                       (fft_freq <= eeg_bands[band][1]))[0]\n",
    "        eeg_band_fft[band] = np.mean(fft_vals[freq_ix])\n",
    "    \n",
    "    # Plot the data (using pandas here cause it's easy)\n",
    "    import pandas as pd\n",
    "    df = pd.DataFrame(columns=['band', 'val'])\n",
    "    df['band'] = eeg_bands.keys()\n",
    "    df['val'] = [eeg_band_fft[band] for band in eeg_bands]\n",
    "    return df\n"
   ]
  },
  {
   "cell_type": "code",
   "execution_count": 15,
   "id": "ethical-davis",
   "metadata": {},
   "outputs": [
    {
     "data": {
      "text/plain": [
       "Text(0, 0.5, 'Mean band Amplitude')"
      ]
     },
     "execution_count": 15,
     "metadata": {},
     "output_type": "execute_result"
    },
    {
     "data": {
      "image/png": "[encoded data removed]",
      "text/plain": [
       "<Figure size 432x288 with 1 Axes>"
      ]
     },
     "metadata": {
      "needs_background": "light"
     },
     "output_type": "display_data"
    }
   ],
   "source": [
    "df = extract_band(dataset[1][0][1], 100)\n",
    "ax = df.plot.bar(x='band', y='val', legend=False)\n",
    "ax.set_xlabel(\"EEG band\")\n",
    "ax.set_ylabel(\"Mean band Amplitude\")"
   ]
  },
  {
   "cell_type": "code",
   "execution_count": 16,
   "id": "scientific-questionnaire",
   "metadata": {},
   "outputs": [
    {
     "data": {
      "text/plain": [
       "torch.Size([103693, 3, 3000])"
      ]
     },
     "execution_count": 16,
     "metadata": {},
     "output_type": "execute_result"
    }
   ],
   "source": [
    "dataset.x.shape"
   ]
  },
  {
   "cell_type": "code",
   "execution_count": 17,
   "id": "ranking-aggregate",
   "metadata": {},
   "outputs": [],
   "source": [
    "class CustomSleepSpectrogramDataset(CustomSleepDataset):\n",
    "    \n",
    "    def __init__(self, file_list):\n",
    "        super().__init__(file_list)\n",
    "    def parse(self, sleep, hypnogram):\n",
    "        _,_, header = highlevel.read_edf(hypnogram)\n",
    "        signals, _, _ = highlevel.read_edf(sleep)\n",
    "        for annotation in header['annotations']:\n",
    "            start = int(annotation[0])\n",
    "            end = int(annotation[1])\n",
    "            sleep_stage = annotation[2][-1]\n",
    "            if (sleep_stage != '?') and (sleep_stage !='W') and (sleep_stage != 'R') and (sleep_stage != 'e'):\n",
    "                for i in range(start, start+end, 30):\n",
    "                # pick i to i +30 for target range end\n",
    "                    x = np.asarray([ signals[0][i*100:(i+30)*100],signals[1][i*100:(i+30)*100], signals[2][i*100:(i+30)*100]])\n",
    "                    _,_,x = spectrogram(x, fs=100)\n",
    "                    self.x.append(x)\n",
    "                    self.y.append(labels[sleep_stage])\n",
    "\n",
    "# dataset = \n",
    "\n",
    "sp_dataset= CustomSleepSpectrogramDataset(match_files(\"./sleep-cassette/\"))\n"
   ]
  },
  {
   "cell_type": "code",
   "execution_count": 18,
   "id": "double-trailer",
   "metadata": {},
   "outputs": [],
   "source": [
    "filename = '2d_sleeper_dataset.pkl'\n",
    "outfile = open(filename,'wb')\n",
    "pickle.dump(sp_dataset,outfile)\n",
    "outfile.close()"
   ]
  },
  {
   "cell_type": "code",
   "execution_count": 19,
   "id": "dried-buying",
   "metadata": {},
   "outputs": [
    {
     "data": {
      "text/plain": [
       "103693"
      ]
     },
     "execution_count": 19,
     "metadata": {},
     "output_type": "execute_result"
    }
   ],
   "source": [
    "len(sp_dataset)"
   ]
  },
  {
   "cell_type": "code",
   "execution_count": 20,
   "id": "supposed-focus",
   "metadata": {},
   "outputs": [
    {
     "data": {
      "text/plain": [
       "torch.Size([103693, 3, 129, 13])"
      ]
     },
     "execution_count": 20,
     "metadata": {},
     "output_type": "execute_result"
    }
   ],
   "source": [
    "sp_dataset.x.shape"
   ]
  },
  {
   "cell_type": "code",
   "execution_count": 21,
   "id": "altered-peninsula",
   "metadata": {},
   "outputs": [
    {
     "data": {
      "text/plain": [
       "torch.Size([3000])"
      ]
     },
     "execution_count": 21,
     "metadata": {},
     "output_type": "execute_result"
    }
   ],
   "source": [
    "sample = dataset[1][0][1]\n",
    "sample.shape"
   ]
  },
  {
   "cell_type": "code",
   "execution_count": 22,
   "id": "northern-difference",
   "metadata": {},
   "outputs": [
    {
     "data": {
      "text/plain": [
       "tensor([7.3407, 7.3407, 3.0330,  ..., 0.0440, 2.0659, 3.1209])"
      ]
     },
     "execution_count": 22,
     "metadata": {},
     "output_type": "execute_result"
    }
   ],
   "source": [
    "sample"
   ]
  },
  {
   "cell_type": "code",
   "execution_count": 23,
   "id": "dress-earthquake",
   "metadata": {},
   "outputs": [
    {
     "data": {
      "text/plain": [
       "tensor(-0.5643)"
      ]
     },
     "execution_count": 23,
     "metadata": {},
     "output_type": "execute_result"
    }
   ],
   "source": [
    "dataset.x.mean()"
   ]
  },
  {
   "cell_type": "code",
   "execution_count": 24,
   "id": "incomplete-capability",
   "metadata": {},
   "outputs": [
    {
     "data": {
      "text/plain": [
       "tensor(699.0051)"
      ]
     },
     "execution_count": 24,
     "metadata": {},
     "output_type": "execute_result"
    }
   ],
   "source": [
    "dataset.x.max()"
   ]
  },
  {
   "cell_type": "code",
   "execution_count": 25,
   "id": "employed-afghanistan",
   "metadata": {},
   "outputs": [
    {
     "data": {
      "text/plain": [
       "tensor(20.4591)"
      ]
     },
     "execution_count": 25,
     "metadata": {},
     "output_type": "execute_result"
    }
   ],
   "source": [
    "dataset.x.std()"
   ]
  },
  {
   "cell_type": "code",
   "execution_count": 26,
   "id": "superb-dallas",
   "metadata": {},
   "outputs": [
    {
     "name": "stdout",
     "output_type": "stream",
     "text": [
      "108.62382234185733\n",
      "2040\n",
      "30\n",
      "645660\n"
     ]
    }
   ],
   "source": [
    "stage = np.asarray(duration_tracker[1])\n",
    "print(stage.mean())\n",
    "print(stage.max())\n",
    "print(stage.min())\n",
    "print(stage.sum())"
   ]
  },
  {
   "cell_type": "code",
   "execution_count": 27,
   "id": "sublime-somerset",
   "metadata": {},
   "outputs": [
    {
     "name": "stdout",
     "output_type": "stream",
     "text": [
      "325.17403574788335\n",
      "5160\n",
      "30\n",
      "2073960\n"
     ]
    }
   ],
   "source": [
    "stage = np.asarray(duration_tracker[2])\n",
    "print(stage.mean())\n",
    "print(stage.max())\n",
    "print(stage.min())\n",
    "print(stage.sum())"
   ]
  },
  {
   "cell_type": "code",
   "execution_count": 28,
   "id": "studied-squad",
   "metadata": {},
   "outputs": [
    {
     "name": "stdout",
     "output_type": "stream",
     "text": [
      "74.55907292255512\n",
      "1620\n",
      "30\n",
      "263790\n"
     ]
    }
   ],
   "source": [
    "stage = np.asarray(duration_tracker[3])\n",
    "print(stage.mean())\n",
    "print(stage.max())\n",
    "print(stage.min())\n",
    "print(stage.sum())"
   ]
  },
  {
   "cell_type": "code",
   "execution_count": 29,
   "id": "innovative-sample",
   "metadata": {},
   "outputs": [
    {
     "name": "stdout",
     "output_type": "stream",
     "text": [
      "125.49753694581281\n",
      "2130\n",
      "30\n",
      "127380\n"
     ]
    }
   ],
   "source": [
    "stage = np.asarray(duration_tracker[4])\n",
    "print(stage.mean())\n",
    "print(stage.max())\n",
    "print(stage.min())\n",
    "print(stage.sum())"
   ]
  }
 ],
 "metadata": {
  "kernelspec": {
   "display_name": "Python 3",
   "language": "python",
   "name": "python3"
  },
  "language_info": {
   "codemirror_mode": {
    "name": "ipython",
    "version": 3
   },
   "file_extension": ".py",
   "mimetype": "text/x-python",
   "name": "python",
   "nbconvert_exporter": "python",
   "pygments_lexer": "ipython3",
   "version": "3.8.5"
  }
 },
 "nbformat": 4,
 "nbformat_minor": 5
}
