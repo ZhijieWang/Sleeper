{
 "cells": [
  {
   "cell_type": "code",
   "execution_count": 1,
   "id": "respiratory-external",
   "metadata": {},
   "outputs": [],
   "source": [
    "import os\n",
    "import random\n",
    "import numpy as np\n",
    "import torch\n",
    "import torch.nn as nn\n",
    "import torch.nn.functional as F\n",
    "import pickle\n",
    "from torch.utils.data import Dataset, SubsetRandomSampler, DataLoader"
   ]
  },
  {
   "cell_type": "code",
   "execution_count": 2,
   "id": "grateful-biotechnology",
   "metadata": {},
   "outputs": [],
   "source": [
    "if torch.cuda.is_available():  \n",
    "  dev = \"cuda:0\" \n",
    "else:  \n",
    "  dev = \"cpu\"  \n",
    "device = torch.device(dev)  \n",
    "a = torch.zeros(4,3)    \n",
    "a = a.to(device)"
   ]
  },
  {
   "cell_type": "code",
   "execution_count": 3,
   "id": "fatal-arrival",
   "metadata": {},
   "outputs": [],
   "source": [
    "labels = {}\n",
    "#W, R, 1, 2, 3, 4, M \n",
    "labels['W']=5\n",
    "labels['R']=6\n",
    "labels['M']=0\n",
    "labels['1']=1\n",
    "labels['2']=2\n",
    "labels['3']=3\n",
    "labels['4']=4"
   ]
  },
  {
   "cell_type": "code",
   "execution_count": 4,
   "id": "expanded-wallace",
   "metadata": {},
   "outputs": [],
   "source": [
    "def load_data(dataset):\n",
    "    batch_size=32\n",
    "    validation_split = .2\n",
    "    shuffle_dataset = True\n",
    "    random_seed= 42\n",
    "    dataset_size = len(dataset)\n",
    "    indices = list(range(dataset_size))\n",
    "    split = int(np.floor(validation_split * dataset_size))\n",
    "    if shuffle_dataset :\n",
    "        np.random.seed(random_seed)\n",
    "        np.random.shuffle(indices)\n",
    "    train_indices, val_indices = indices[split:], indices[:split]\n",
    "\n",
    "    # Creating PT data samplers and loaders:\n",
    "    train_sampler = SubsetRandomSampler(train_indices)\n",
    "    valid_sampler = SubsetRandomSampler(val_indices)\n",
    "    train_loader = torch.utils.data.DataLoader(dataset, batch_size=batch_size, \n",
    "                                               sampler=train_sampler)\n",
    "    val_loader = torch.utils.data.DataLoader(dataset, batch_size=batch_size,\n",
    "                                                    sampler=valid_sampler)\n",
    "\n",
    "\n",
    "    return train_loader, val_loader"
   ]
  },
  {
   "cell_type": "code",
   "execution_count": 5,
   "id": "major-orleans",
   "metadata": {},
   "outputs": [],
   "source": [
    "\n",
    "class CustomSleepDataset(Dataset):\n",
    "    \n",
    "    def __init__(self, file_list):\n",
    "        self.x = []\n",
    "        self.y = []\n",
    "        for i in file_list.keys():\n",
    "            self.parse(file_list[i][\"PSG.edf\"], file_list[i][\"Hypnogram.edf\"])\n",
    "        self.x = torch.FloatTensor(self.x)\n",
    "        self.y = torch.LongTensor(self.y)\n",
    "    def parse(self, sleep, hypnogram):\n",
    "        _,_, header = highlevel.read_edf(hypnogram)\n",
    "        signals, _, _ = highlevel.read_edf(sleep)\n",
    "     \n",
    "        for annotation in header['annotations']:\n",
    "            start = int(annotation[0])\n",
    "            end = int(annotation[1])\n",
    "            sleep_stage = annotation[2][-1]\n",
    "            if sleep_stage != '?':\n",
    "                for i in range(start, end, 30):\n",
    "                # pick i to i +30 for target range end\n",
    "                    self.x.append([ signals[0][i*100:(i+30)*100],signals[1][i*100:(i+30)*100], signals[2][i*100:(i+30)*100]])\n",
    "                    self.y.append(labels[sleep_stage])\n",
    "    \n",
    "    def __len__(self):\n",
    "\n",
    "        return len(self.y)\n",
    "\n",
    "    \n",
    "    def __getitem__(self, index):\n",
    "        \n",
    "        return (self.x[index], self.y[index])\n",
    "class CustomSleepSpectrogramDataset(CustomSleepDataset):\n",
    "    \n",
    "    def __init__(self, file_list):\n",
    "        super().__init__(file_list)\n",
    "    def parse(self, sleep, hypnogram):\n",
    "        _,_, header = highlevel.read_edf(hypnogram)\n",
    "        signals, _, _ = highlevel.read_edf(sleep)\n",
    "        for annotation in header['annotations']:\n",
    "            start = int(annotation[0])\n",
    "            end = int(annotation[1])\n",
    "            sleep_stage = annotation[2][-1]\n",
    "            if (sleep_stage != '?') and (sleep_stage !='W') and (sleep_stage != 'R') and (sleep_stage != 'e'):\n",
    "                for i in range(start, start+end, 30):\n",
    "                # pick i to i +30 for target range end\n",
    "                    x = np.asarray([ signals[0][i*100:(i+30)*100],signals[1][i*100:(i+30)*100], signals[2][i*100:(i+30)*100]])\n",
    "                    _,_,x = spectrogram(x, fs=100)\n",
    "                    self.x.append(x)\n",
    "                    self.y.append(labels[sleep_stage])\n",
    "\n"
   ]
  },
  {
   "cell_type": "code",
   "execution_count": 6,
   "id": "wanted-collection",
   "metadata": {},
   "outputs": [],
   "source": [
    "filename = '2d_sleeper_dataset.pkl'\n",
    "infile = open(filename,'rb')\n",
    "dataset = pickle.load(infile)\n",
    "\n",
    "infile.close()\n",
    "train_loader, val_loader = load_data(dataset)"
   ]
  },
  {
   "cell_type": "code",
   "execution_count": 7,
   "id": "prepared-physiology",
   "metadata": {},
   "outputs": [],
   "source": [
    "class SimpleCNN(nn.Module):\n",
    "    def __init__(self):\n",
    "        super(SimpleCNN, self).__init__()\n",
    "        \n",
    "        self.conv1 = nn.Conv2d(in_channels=3, out_channels=256, kernel_size=7,stride=1,padding=10)\n",
    "        #kernel =2, stride=2\n",
    "        self.pool = nn.MaxPool2d(2, 2)\n",
    "        self.conv2 = nn.Conv2d(in_channels=256, out_channels=128, kernel_size=5,stride=2,padding=6)\n",
    "        self.pool = nn.MaxPool2d(2, 2)\n",
    "        self.conv3 = nn.Conv2d(in_channels=128, out_channels=64, kernel_size=3,stride=2,padding=6)\n",
    "        \n",
    "        self.fc1 = nn.Linear(64*7*4, 5)\n",
    "\n",
    "    def forward(self, x):\n",
    "        x = self.pool(F.relu(self.conv1(x)))\n",
    "#         print(x.shape)\n",
    "        x = self.pool(F.relu(self.conv2(x)))\n",
    "#         print(x.shape)\n",
    "        x = self.pool(F.relu(self.conv3(x)))\n",
    "#         print(x.shape)\n",
    "#         x = x.squeeze(3)\n",
    "        x = x.view(-1,64 * 7*4)\n",
    "\n",
    "        \n",
    "#         print(x.shape)\n",
    "        x = self.fc1(x)\n",
    "        return x\n",
    "    "
   ]
  },
  {
   "cell_type": "code",
   "execution_count": 8,
   "id": "sonic-secondary",
   "metadata": {},
   "outputs": [
    {
     "data": {
      "text/plain": [
       "SimpleCNN(\n",
       "  (conv1): Conv2d(3, 256, kernel_size=(7, 7), stride=(1, 1), padding=(10, 10))\n",
       "  (pool): MaxPool2d(kernel_size=2, stride=2, padding=0, dilation=1, ceil_mode=False)\n",
       "  (conv2): Conv2d(256, 128, kernel_size=(5, 5), stride=(2, 2), padding=(6, 6))\n",
       "  (conv3): Conv2d(128, 64, kernel_size=(3, 3), stride=(2, 2), padding=(6, 6))\n",
       "  (fc1): Linear(in_features=1792, out_features=5, bias=True)\n",
       ")"
      ]
     },
     "execution_count": 8,
     "metadata": {},
     "output_type": "execute_result"
    }
   ],
   "source": [
    "model = SimpleCNN()\n",
    "model.to(device)\n"
   ]
  },
  {
   "cell_type": "code",
   "execution_count": 9,
   "id": "capable-thomas",
   "metadata": {},
   "outputs": [],
   "source": [
    "##load model\n",
    "import torch.optim as optim\n",
    "criterion = torch.nn.modules.loss.CrossEntropyLoss()\n",
    "optimizer = torch.optim.SGD(model.parameters(), lr=0.01, momentum=0.9)"
   ]
  },
  {
   "cell_type": "code",
   "execution_count": 10,
   "id": "incident-denmark",
   "metadata": {},
   "outputs": [],
   "source": [
    "##train\n",
    "n_epochs = 35\n",
    "\n",
    "def train_model(model, train_dataloader, n_epoch=n_epochs, optimizer=optimizer, criterion=criterion):\n",
    "\n",
    "    model.train()# prep model for training\n",
    "    for epoch in range(n_epoch):\n",
    "        curr_epoch_loss = []\n",
    "        for data, target in train_dataloader:\n",
    "            data = data.cuda()\n",
    "            target = target.cuda()\n",
    "            optimizer.zero_grad()\n",
    "\n",
    "            with torch.set_grad_enabled(True):\n",
    "                outputs = model(data)\n",
    "                _, preds = torch.max(outputs, 1)\n",
    "                loss = criterion(outputs, target)\n",
    "                # backward + optimize only if in training phase\n",
    "                loss.backward()\n",
    "                optimizer.step()\n",
    "           \n",
    "            curr_epoch_loss.append(loss.cpu().data.numpy())\n",
    "        print(f\"Epoch {epoch}: curr_epoch_loss={np.mean(curr_epoch_loss)}\")\n",
    "    return model\n"
   ]
  },
  {
   "cell_type": "code",
   "execution_count": 11,
   "id": "stone-asthma",
   "metadata": {},
   "outputs": [
    {
     "name": "stdout",
     "output_type": "stream",
     "text": [
      "Epoch 0: curr_epoch_loss=0.6440852880477905\n",
      "Epoch 1: curr_epoch_loss=0.5096193552017212\n",
      "Epoch 2: curr_epoch_loss=0.48172733187675476\n",
      "Epoch 3: curr_epoch_loss=0.461678147315979\n",
      "Epoch 4: curr_epoch_loss=0.43239498138427734\n",
      "Epoch 5: curr_epoch_loss=0.41749879717826843\n",
      "Epoch 6: curr_epoch_loss=0.40539732575416565\n",
      "Epoch 7: curr_epoch_loss=0.3921390473842621\n",
      "Epoch 8: curr_epoch_loss=0.38291046023368835\n",
      "Epoch 9: curr_epoch_loss=0.3687182068824768\n",
      "Epoch 10: curr_epoch_loss=0.36531564593315125\n",
      "Epoch 11: curr_epoch_loss=0.35686632990837097\n",
      "Epoch 12: curr_epoch_loss=0.34305694699287415\n",
      "Epoch 13: curr_epoch_loss=0.34152188897132874\n",
      "Epoch 14: curr_epoch_loss=0.3225553631782532\n",
      "Epoch 15: curr_epoch_loss=0.31251463294029236\n",
      "Epoch 16: curr_epoch_loss=0.2996985912322998\n",
      "Epoch 17: curr_epoch_loss=0.2819691598415375\n",
      "Epoch 18: curr_epoch_loss=0.273922324180603\n",
      "Epoch 19: curr_epoch_loss=0.26473328471183777\n",
      "Epoch 20: curr_epoch_loss=0.25423958897590637\n",
      "Epoch 21: curr_epoch_loss=0.23645693063735962\n",
      "Epoch 22: curr_epoch_loss=0.22493793070316315\n",
      "Epoch 23: curr_epoch_loss=0.20868204534053802\n",
      "Epoch 24: curr_epoch_loss=0.2011382132768631\n",
      "Epoch 25: curr_epoch_loss=0.1936207115650177\n",
      "Epoch 26: curr_epoch_loss=0.29346978664398193\n",
      "Epoch 27: curr_epoch_loss=0.2243705689907074\n",
      "Epoch 28: curr_epoch_loss=0.20007464289665222\n",
      "Epoch 29: curr_epoch_loss=0.17226028442382812\n",
      "Epoch 30: curr_epoch_loss=0.17681141197681427\n",
      "Epoch 31: curr_epoch_loss=0.15944914519786835\n",
      "Epoch 32: curr_epoch_loss=0.1548030823469162\n",
      "Epoch 33: curr_epoch_loss=0.14061497151851654\n",
      "Epoch 34: curr_epoch_loss=0.12971989810466766\n"
     ]
    },
    {
     "data": {
      "text/plain": [
       "SimpleCNN(\n",
       "  (conv1): Conv2d(3, 256, kernel_size=(7, 7), stride=(1, 1), padding=(10, 10))\n",
       "  (pool): MaxPool2d(kernel_size=2, stride=2, padding=0, dilation=1, ceil_mode=False)\n",
       "  (conv2): Conv2d(256, 128, kernel_size=(5, 5), stride=(2, 2), padding=(6, 6))\n",
       "  (conv3): Conv2d(128, 64, kernel_size=(3, 3), stride=(2, 2), padding=(6, 6))\n",
       "  (fc1): Linear(in_features=1792, out_features=5, bias=True)\n",
       ")"
      ]
     },
     "execution_count": 11,
     "metadata": {},
     "output_type": "execute_result"
    }
   ],
   "source": [
    "train_model(model, train_loader,n_epochs, optimizer, criterion)"
   ]
  },
  {
   "cell_type": "code",
   "execution_count": 12,
   "id": "filled-wildlife",
   "metadata": {},
   "outputs": [],
   "source": [
    "def eval_model(model, dataloader):\n",
    "\n",
    "    model.eval()\n",
    "    Y_pred = []\n",
    "    Y_test = []\n",
    "    for data, target in dataloader:\n",
    "        data = data.cuda()\n",
    "        target = target.cuda()\n",
    "        outputs = model(data)\n",
    "        _,outputs = torch.max(outputs, dim = 1)\n",
    "        Y_pred.append(outputs.cpu())\n",
    "\n",
    "        Y_test.append(target.cpu().detach().numpy())\n",
    "    Y_pred = np.concatenate(Y_pred, axis=0)\n",
    "    Y_test = np.concatenate(Y_test, axis=0)\n",
    "\n",
    "    return Y_pred, Y_test"
   ]
  },
  {
   "cell_type": "code",
   "execution_count": 13,
   "id": "smart-funds",
   "metadata": {},
   "outputs": [],
   "source": [
    "from sklearn.metrics import accuracy_score\n",
    "\n",
    "y_pred, y_true = eval_model(model, val_loader)\n",
    "\n",
    "acc = accuracy_score(y_true, y_pred)"
   ]
  },
  {
   "cell_type": "code",
   "execution_count": 14,
   "id": "medium-museum",
   "metadata": {},
   "outputs": [
    {
     "data": {
      "text/plain": [
       "0.7916562578066451"
      ]
     },
     "execution_count": 14,
     "metadata": {},
     "output_type": "execute_result"
    }
   ],
   "source": [
    "acc"
   ]
  },
  {
   "cell_type": "code",
   "execution_count": 15,
   "id": "active-candidate",
   "metadata": {},
   "outputs": [
    {
     "data": {
      "text/plain": [
       "array([1, 2, 2, ..., 2, 2, 2])"
      ]
     },
     "execution_count": 15,
     "metadata": {},
     "output_type": "execute_result"
    }
   ],
   "source": [
    "y_pred"
   ]
  },
  {
   "cell_type": "code",
   "execution_count": 16,
   "id": "informative-amendment",
   "metadata": {},
   "outputs": [
    {
     "data": {
      "text/plain": [
       "array([1, 2, 2, ..., 2, 2, 2])"
      ]
     },
     "execution_count": 16,
     "metadata": {},
     "output_type": "execute_result"
    }
   ],
   "source": [
    "y_true"
   ]
  },
  {
   "cell_type": "code",
   "execution_count": null,
   "id": "joined-apollo",
   "metadata": {},
   "outputs": [],
   "source": []
  },
  {
   "cell_type": "code",
   "execution_count": null,
   "id": "heated-seventh",
   "metadata": {},
   "outputs": [],
   "source": []
  }
 ],
 "metadata": {
  "kernelspec": {
   "display_name": "Python 3",
   "language": "python",
   "name": "python3"
  },
  "language_info": {
   "codemirror_mode": {
    "name": "ipython",
    "version": 3
   },
   "file_extension": ".py",
   "mimetype": "text/x-python",
   "name": "python",
   "nbconvert_exporter": "python",
   "pygments_lexer": "ipython3",
   "version": "3.8.5"
  }
 },
 "nbformat": 4,
 "nbformat_minor": 5
}
