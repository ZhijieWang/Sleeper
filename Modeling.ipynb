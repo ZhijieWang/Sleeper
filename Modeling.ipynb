{
 "cells": [
  {
   "cell_type": "code",
   "execution_count": 1,
   "id": "respiratory-external",
   "metadata": {},
   "outputs": [],
   "source": [
    "import os\n",
    "import random\n",
    "import numpy as np\n",
    "import torch\n",
    "import torch.nn as nn\n",
    "import torch.nn.functional as F\n",
    "import pickle\n",
    "from torch.utils.data import Dataset, SubsetRandomSampler, DataLoader"
   ]
  },
  {
   "cell_type": "code",
   "execution_count": 2,
   "id": "grateful-biotechnology",
   "metadata": {},
   "outputs": [],
   "source": [
    "if torch.cuda.is_available():  \n",
    "  dev = \"cuda:0\" \n",
    "else:  \n",
    "  dev = \"cpu\"  \n",
    "device = torch.device(dev)  \n",
    "a = torch.zeros(4,3)    \n",
    "a = a.to(device)"
   ]
  },
  {
   "cell_type": "code",
   "execution_count": 3,
   "id": "pointed-strength",
   "metadata": {},
   "outputs": [],
   "source": [
    "labels = {}\n",
    "#W, R, 1, 2, 3, 4, M \n",
    "labels['W']=5\n",
    "labels['R']=6\n",
    "labels['M']=0\n",
    "labels['1']=1\n",
    "labels['2']=2\n",
    "labels['3']=3\n",
    "labels['4']=4"
   ]
  },
  {
   "cell_type": "code",
   "execution_count": 29,
   "id": "spread-andrews",
   "metadata": {},
   "outputs": [],
   "source": [
    "def load_data(dataset):\n",
    "    batch_size=32\n",
    "    validation_split = .2\n",
    "    shuffle_dataset = True\n",
    "    random_seed= 42\n",
    "    dataset_size = len(dataset)\n",
    "    indices = list(range(dataset_size))\n",
    "    split = int(np.floor(validation_split * dataset_size))\n",
    "    if shuffle_dataset :\n",
    "        np.random.seed(random_seed)\n",
    "        np.random.shuffle(indices)\n",
    "    train_indices, val_indices = indices[split:], indices[:split]\n",
    "\n",
    "    # Creating PT data samplers and loaders:\n",
    "    train_sampler = SubsetRandomSampler(train_indices)\n",
    "    valid_sampler = SubsetRandomSampler(val_indices)\n",
    "    dataset.x = dataset.x.to(device)\n",
    "    dataset.y = dataset.y.to(device)\n",
    "    train_loader = torch.utils.data.DataLoader(dataset, batch_size=batch_size, \n",
    "                                               sampler=train_sampler)\n",
    "    val_loader = torch.utils.data.DataLoader(dataset, batch_size=batch_size,\n",
    "                                                    sampler=valid_sampler)\n",
    "\n",
    "\n",
    "    return train_loader, val_loader"
   ]
  },
  {
   "cell_type": "code",
   "execution_count": 30,
   "id": "global-symphony",
   "metadata": {},
   "outputs": [],
   "source": [
    "\n",
    "class CustomSleepDataset(Dataset):\n",
    "    \n",
    "    def __init__(self, file_list):\n",
    "        self.x = []\n",
    "        self.y = []\n",
    "        for i in file_list.keys():\n",
    "            self.parse(file_list[i][\"PSG.edf\"], file_list[i][\"Hypnogram.edf\"])\n",
    "        self.x = torch.FloatTensor(self.x)\n",
    "        self.y = torch.LongTensor(self.y)\n",
    "    def parse(self, sleep, hypnogram):\n",
    "        _,_, header = highlevel.read_edf(hypnogram)\n",
    "        signals, _, _ = highlevel.read_edf(sleep)\n",
    "     \n",
    "        for annotation in header['annotations']:\n",
    "            start = int(annotation[0])\n",
    "            end = int(annotation[1])\n",
    "            sleep_stage = annotation[2][-1]\n",
    "            if sleep_stage != '?':\n",
    "                for i in range(start, end, 30):\n",
    "                # pick i to i +30 for target range end\n",
    "                    self.x.append([ signals[0][i*100:(i+30)*100],signals[1][i*100:(i+30)*100], signals[2][i*100:(i+30)*100]])\n",
    "                    self.y.append(labels[sleep_stage])\n",
    "    \n",
    "    def __len__(self):\n",
    "\n",
    "        return len(self.y)\n",
    "\n",
    "    \n",
    "    def __getitem__(self, index):\n",
    "        \n",
    "        return (self.x[index], self.y[index])\n",
    "        \n"
   ]
  },
  {
   "cell_type": "code",
   "execution_count": 31,
   "id": "alike-matrix",
   "metadata": {},
   "outputs": [],
   "source": [
    "filename = 'sleeper_dataset.pkl'\n",
    "infile = open(filename,'rb')\n",
    "dataset = pickle.load(infile)\n",
    "infile.close()\n",
    "train_loader, val_loader = load_data(dataset)"
   ]
  },
  {
   "cell_type": "code",
   "execution_count": 32,
   "id": "prepared-physiology",
   "metadata": {},
   "outputs": [],
   "source": [
    "class SimpleCNN(nn.Module):\n",
    "    def __init__(self):\n",
    "        super(SimpleCNN, self).__init__()\n",
    "        \n",
    "        self.conv1 = nn.Conv1d(in_channels=3, out_channels=256, kernel_size=101,stride=10,padding=51)\n",
    "        #kernel =2, stride=2\n",
    "        self.pool = nn.MaxPool1d(2, 2)\n",
    "        self.conv2 = nn.Conv1d(in_channels=256, out_channels=128, kernel_size=11,stride=2,padding=6)\n",
    "\n",
    "        self.conv3 = nn.Conv1d(in_channels=128, out_channels=64, kernel_size=11,stride=2,padding=6)\n",
    "        \n",
    "        self.fc1 = nn.Linear(64 * 10, 7)\n",
    "\n",
    "    def forward(self, x):\n",
    "        x = self.pool(F.relu(self.conv1(x)))\n",
    "#         print(x.shape)\n",
    "        x = self.pool(F.relu(self.conv2(x)))\n",
    "#         print(x.shape)\n",
    "        x = self.pool(F.relu(self.conv3(x)))\n",
    "#         print(x.shape)\n",
    "        x = x.view(-1,64 * 10)\n",
    "        x = self.fc1(x)\n",
    "        return x\n",
    "    "
   ]
  },
  {
   "cell_type": "code",
   "execution_count": 33,
   "id": "capable-thomas",
   "metadata": {},
   "outputs": [],
   "source": [
    "##load model\n",
    "model = SimpleCNN()"
   ]
  },
  {
   "cell_type": "code",
   "execution_count": 34,
   "id": "intended-dispatch",
   "metadata": {},
   "outputs": [],
   "source": [
    "criterion = torch.nn.modules.loss.CrossEntropyLoss()\n",
    "optimizer = torch.optim.SGD(model.parameters(), lr=0.01, momentum=0.9)\n"
   ]
  },
  {
   "cell_type": "code",
   "execution_count": 35,
   "id": "incident-denmark",
   "metadata": {},
   "outputs": [],
   "source": [
    "##train\n",
    "n_epochs = 10\n",
    "\n",
    "def train_model(model, train_dataloader, n_epoch=n_epochs, optimizer=optimizer, criterion=criterion):\n",
    "    import torch.optim as optim\n",
    "    model.train()# prep model for training\n",
    "    model.to(device)\n",
    "    for epoch in range(n_epoch):\n",
    "        curr_epoch_loss = []\n",
    "        for data, target in train_dataloader:\n",
    "            optimizer.zero_grad()\n",
    "\n",
    "            with torch.set_grad_enabled(True):\n",
    "                outputs = model(data)\n",
    "                _, preds = torch.max(outputs, 1)\n",
    "                loss = criterion(outputs, target)\n",
    "                # backward + optimize only if in training phase\n",
    "                loss.backward()\n",
    "                optimizer.step()\n",
    "           \n",
    "            curr_epoch_loss.append(loss.cpu().data.numpy())\n",
    "        print(f\"Epoch {epoch}: curr_epoch_loss={np.mean(curr_epoch_loss)}\")\n",
    "    return model\n"
   ]
  },
  {
   "cell_type": "code",
   "execution_count": 36,
   "id": "greater-suggestion",
   "metadata": {},
   "outputs": [
    {
     "name": "stdout",
     "output_type": "stream",
     "text": [
      "Epoch 0: curr_epoch_loss=0.0014718712773174047\n",
      "Epoch 1: curr_epoch_loss=0.0\n",
      "Epoch 2: curr_epoch_loss=0.0\n",
      "Epoch 3: curr_epoch_loss=0.0\n",
      "Epoch 4: curr_epoch_loss=0.0\n",
      "Epoch 5: curr_epoch_loss=0.0\n",
      "Epoch 6: curr_epoch_loss=0.0\n",
      "Epoch 7: curr_epoch_loss=0.0\n",
      "Epoch 8: curr_epoch_loss=0.0\n",
      "Epoch 9: curr_epoch_loss=0.0\n"
     ]
    },
    {
     "data": {
      "text/plain": [
       "SimpleCNN(\n",
       "  (conv1): Conv1d(3, 256, kernel_size=(201,), stride=(10,), padding=(51,))\n",
       "  (pool): MaxPool1d(kernel_size=2, stride=2, padding=0, dilation=1, ceil_mode=False)\n",
       "  (conv2): Conv1d(256, 128, kernel_size=(11,), stride=(2,), padding=(6,))\n",
       "  (conv3): Conv1d(128, 64, kernel_size=(11,), stride=(2,), padding=(6,))\n",
       "  (fc1): Linear(in_features=640, out_features=7, bias=True)\n",
       ")"
      ]
     },
     "execution_count": 36,
     "metadata": {},
     "output_type": "execute_result"
    }
   ],
   "source": [
    "\n",
    "train_model(model, train_loader,n_epochs, optimizer, criterion)"
   ]
  },
  {
   "cell_type": "code",
   "execution_count": 37,
   "id": "cordless-bottom",
   "metadata": {},
   "outputs": [],
   "source": [
    "def eval_model(model, dataloader):\n",
    "\n",
    "    model.eval()\n",
    "    Y_pred = []\n",
    "    Y_test = []\n",
    "    for data, target in dataloader:\n",
    "        outputs = model(data)\n",
    "        _,outputs = torch.max(outputs, dim = 1)\n",
    "        Y_pred.append(outputs)\n",
    "\n",
    "        Y_test.append(target.detach().numpy())\n",
    "    Y_pred = np.concatenate(Y_pred, axis=0)\n",
    "    Y_test = np.concatenate(Y_test, axis=0)\n",
    "\n",
    "    return Y_pred, Y_test"
   ]
  },
  {
   "cell_type": "code",
   "execution_count": 38,
   "id": "absent-singer",
   "metadata": {},
   "outputs": [
    {
     "ename": "ModuleNotFoundError",
     "evalue": "No module named 'sklearn'",
     "output_type": "error",
     "traceback": [
      "\u001b[0;31m---------------------------------------------------------------------------\u001b[0m",
      "\u001b[0;31mModuleNotFoundError\u001b[0m                       Traceback (most recent call last)",
      "\u001b[0;32m<ipython-input-38-0ded30f3a80e>\u001b[0m in \u001b[0;36m<module>\u001b[0;34m\u001b[0m\n\u001b[0;32m----> 1\u001b[0;31m \u001b[0;32mfrom\u001b[0m \u001b[0msklearn\u001b[0m\u001b[0;34m.\u001b[0m\u001b[0mmetrics\u001b[0m \u001b[0;32mimport\u001b[0m \u001b[0maccuracy_score\u001b[0m\u001b[0;34m\u001b[0m\u001b[0;34m\u001b[0m\u001b[0m\n\u001b[0m\u001b[1;32m      2\u001b[0m \u001b[0;34m\u001b[0m\u001b[0m\n\u001b[1;32m      3\u001b[0m \u001b[0my_pred\u001b[0m\u001b[0;34m,\u001b[0m \u001b[0my_true\u001b[0m \u001b[0;34m=\u001b[0m \u001b[0meval_model\u001b[0m\u001b[0;34m(\u001b[0m\u001b[0mmodel\u001b[0m\u001b[0;34m,\u001b[0m \u001b[0mval_loader\u001b[0m\u001b[0;34m)\u001b[0m\u001b[0;34m\u001b[0m\u001b[0;34m\u001b[0m\u001b[0m\n\u001b[1;32m      4\u001b[0m \u001b[0macc\u001b[0m \u001b[0;34m=\u001b[0m \u001b[0maccuracy_score\u001b[0m\u001b[0;34m(\u001b[0m\u001b[0my_true\u001b[0m\u001b[0;34m,\u001b[0m \u001b[0my_pred\u001b[0m\u001b[0;34m)\u001b[0m\u001b[0;34m\u001b[0m\u001b[0;34m\u001b[0m\u001b[0m\n",
      "\u001b[0;31mModuleNotFoundError\u001b[0m: No module named 'sklearn'"
     ]
    }
   ],
   "source": [
    "from sklearn.metrics import accuracy_score\n",
    "\n",
    "y_pred, y_true = eval_model(model, val_loader)\n",
    "acc = accuracy_score(y_true, y_pred)"
   ]
  },
  {
   "cell_type": "code",
   "execution_count": null,
   "id": "blocked-flood",
   "metadata": {},
   "outputs": [],
   "source": []
  }
 ],
 "metadata": {
  "kernelspec": {
   "display_name": "Python 3",
   "language": "python",
   "name": "python3"
  },
  "language_info": {
   "codemirror_mode": {
    "name": "ipython",
    "version": 3
   },
   "file_extension": ".py",
   "mimetype": "text/x-python",
   "name": "python",
   "nbconvert_exporter": "python",
   "pygments_lexer": "ipython3",
   "version": "3.8.5"
  }
 },
 "nbformat": 4,
 "nbformat_minor": 5
}
